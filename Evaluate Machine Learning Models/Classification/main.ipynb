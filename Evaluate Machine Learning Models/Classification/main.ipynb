{
 "cells": [
  {
   "cell_type": "code",
   "execution_count": 55,
   "metadata": {},
   "outputs": [],
   "source": [
    "import pandas as pd\n",
    "import numpy as np\n",
    "from sklearn.linear_model import LogisticRegression\n",
    "from sklearn.model_selection import train_test_split, cross_val_score, GridSearchCV\n",
    "from sklearn.preprocessing import StandardScaler, LabelEncoder\n",
    "from sklearn.neighbors import KNeighborsClassifier\n",
    "from sklearn.svm import SVC\n",
    "from sklearn.naive_bayes import GaussianNB\n",
    "from sklearn.tree import DecisionTreeClassifier\n",
    "from sklearn.ensemble import RandomForestClassifier\n",
    "from xgboost import XGBClassifier\n",
    "from catboost import CatBoostClassifier\n",
    "from sklearn.pipeline import Pipeline\n",
    "from sklearn.discriminant_analysis import LinearDiscriminantAnalysis as LDA\n",
    "from sklearn.decomposition import PCA, KernelPCA\n",
    "import matplotlib.pyplot as plt\n",
    "import seaborn as sns\n",
    "import plotly.express as px"
   ]
  },
  {
   "cell_type": "code",
   "execution_count": 56,
   "metadata": {},
   "outputs": [],
   "source": [
    "df = pd.read_csv('./Data.csv')\n",
    "X = df.iloc[:, :-1].values\n",
    "y = df.iloc[:, -1].values"
   ]
  },
  {
   "cell_type": "code",
   "execution_count": 57,
   "metadata": {},
   "outputs": [],
   "source": [
    "models = {\n",
    "    'XGBoost': XGBClassifier(),\n",
    "    'Logistic Regression': LogisticRegression(),\n",
    "    'K-NN': KNeighborsClassifier(),\n",
    "    'SVC': SVC(),\n",
    "    'GauusianNB': GaussianNB(),\n",
    "    'Random Forest': RandomForestClassifier(),\n",
    "    'Decision Tree': DecisionTreeClassifier(),\n",
    "    'CATBoost': CatBoostClassifier(verbose = 0),\n",
    "} "
   ]
  },
  {
   "cell_type": "code",
   "execution_count": 58,
   "metadata": {},
   "outputs": [],
   "source": [
    "sc = StandardScaler()"
   ]
  },
  {
   "cell_type": "code",
   "execution_count": 59,
   "metadata": {},
   "outputs": [],
   "source": [
    "X_train, X_test, y_train, y_test = train_test_split(X, y, test_size = 0.25, random_state = 42)\n",
    "X_train_scaled = sc.fit_transform(X_train)\n",
    "X_test_scaled = sc.transform(X_test)\n",
    "X_scaled = sc.fit_transform(X)"
   ]
  },
  {
   "cell_type": "code",
   "execution_count": 60,
   "metadata": {},
   "outputs": [],
   "source": [
    "results = pd.DataFrame(columns = ['Score'])"
   ]
  },
  {
   "cell_type": "code",
   "execution_count": 61,
   "metadata": {},
   "outputs": [],
   "source": [
    "for modelName in models:\n",
    "    pipe = Pipeline((('scaler', sc), ('pca', PCA()), ('model', models[modelName])))\n",
    "    param_grid = {'pca__n_components': np.arange(1, df.columns.size)}\n",
    "\n",
    "    if modelName == 'K-NN':\n",
    "        param_grid['model__n_neighbors'] = np.arange(1, 50)\n",
    "        Score = GridSearchCV(pipe, param_grid, cv = 10, n_jobs = -1).fit(X, y).best_score_\n",
    "        \n",
    "    elif modelName == 'XGBoost':\n",
    "        Score = cross_val_score(XGBClassifier(), X, LabelEncoder().fit_transform(y), cv = 10).mean()\n",
    "        \n",
    "    elif modelName == 'SVC':\n",
    "        param_grid['model__kernel'] = ['rbf', 'poly', 'sigmoid']\n",
    "        Score = GridSearchCV(pipe, param_grid, cv = 10, n_jobs = -1).fit(X, y).best_score_\n",
    "        \n",
    "    elif modelName == 'Decision Tree':\n",
    "        param_grid['model__criterion'] = ['gini', 'entropy', 'log_loss']\n",
    "        param_grid['model__splitter'] = ['best', 'random']\n",
    "        Score = GridSearchCV(pipe, param_grid, cv = 10, n_jobs = -1).fit(X, y).best_score_\n",
    "        \n",
    "    elif modelName == 'Random Forest':\n",
    "        param_grid['model__criterion'] = ['gini', 'entropy', 'log_loss']\n",
    "        param_grid['model__max_features'] = ['sqrt', 'log2']\n",
    "        param_grid['model__class_weight'] = ['balanced', 'balanced_subsample']\n",
    "        Score = GridSearchCV(pipe, param_grid, cv = 10, n_jobs = -1).fit(X, y).best_score_\n",
    "    \n",
    "    else:\n",
    "        Score = GridSearchCV(pipe, param_grid, cv = 10, n_jobs = -1).fit(X, y).best_score_\n",
    "    \n",
    "    results.loc[modelName] = dict(Score = '{:.2f}'.format(Score * 100) + '%')"
   ]
  },
  {
   "cell_type": "code",
   "execution_count": 62,
   "metadata": {},
   "outputs": [
    {
     "data": {
      "text/html": [
       "<div>\n",
       "<style scoped>\n",
       "    .dataframe tbody tr th:only-of-type {\n",
       "        vertical-align: middle;\n",
       "    }\n",
       "\n",
       "    .dataframe tbody tr th {\n",
       "        vertical-align: top;\n",
       "    }\n",
       "\n",
       "    .dataframe thead th {\n",
       "        text-align: right;\n",
       "    }\n",
       "</style>\n",
       "<table border=\"1\" class=\"dataframe\">\n",
       "  <thead>\n",
       "    <tr style=\"text-align: right;\">\n",
       "      <th></th>\n",
       "      <th>Score</th>\n",
       "    </tr>\n",
       "  </thead>\n",
       "  <tbody>\n",
       "    <tr>\n",
       "      <th>Random Forest</th>\n",
       "      <td>97.66%</td>\n",
       "    </tr>\n",
       "    <tr>\n",
       "      <th>Decision Tree</th>\n",
       "      <td>97.66%</td>\n",
       "    </tr>\n",
       "    <tr>\n",
       "      <th>K-NN</th>\n",
       "      <td>97.51%</td>\n",
       "    </tr>\n",
       "    <tr>\n",
       "      <th>SVC</th>\n",
       "      <td>97.51%</td>\n",
       "    </tr>\n",
       "    <tr>\n",
       "      <th>CATBoost</th>\n",
       "      <td>97.37%</td>\n",
       "    </tr>\n",
       "    <tr>\n",
       "      <th>Logistic Regression</th>\n",
       "      <td>96.94%</td>\n",
       "    </tr>\n",
       "    <tr>\n",
       "      <th>GauusianNB</th>\n",
       "      <td>96.93%</td>\n",
       "    </tr>\n",
       "    <tr>\n",
       "      <th>XGBoost</th>\n",
       "      <td>96.49%</td>\n",
       "    </tr>\n",
       "  </tbody>\n",
       "</table>\n",
       "</div>"
      ],
      "text/plain": [
       "                      Score\n",
       "Random Forest        97.66%\n",
       "Decision Tree        97.66%\n",
       "K-NN                 97.51%\n",
       "SVC                  97.51%\n",
       "CATBoost             97.37%\n",
       "Logistic Regression  96.94%\n",
       "GauusianNB           96.93%\n",
       "XGBoost              96.49%"
      ]
     },
     "execution_count": 62,
     "metadata": {},
     "output_type": "execute_result"
    }
   ],
   "source": [
    "results.sort_values('Score', ascending = False)"
   ]
  }
 ],
 "metadata": {
  "kernelspec": {
   "display_name": "Python 3",
   "language": "python",
   "name": "python3"
  },
  "language_info": {
   "codemirror_mode": {
    "name": "ipython",
    "version": 3
   },
   "file_extension": ".py",
   "mimetype": "text/x-python",
   "name": "python",
   "nbconvert_exporter": "python",
   "pygments_lexer": "ipython3",
   "version": "3.11.4"
  },
  "orig_nbformat": 4
 },
 "nbformat": 4,
 "nbformat_minor": 2
}
