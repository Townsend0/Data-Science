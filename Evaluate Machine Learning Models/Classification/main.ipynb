{
 "cells": [
  {
   "cell_type": "code",
   "execution_count": 1,
   "metadata": {},
   "outputs": [],
   "source": [
    "import pandas as pd\n",
    "import numpy as np\n",
    "import warnings\n",
    "from sklearn.linear_model import LogisticRegression\n",
    "from sklearn.model_selection import GridSearchCV\n",
    "from sklearn.preprocessing import StandardScaler, LabelEncoder\n",
    "from sklearn.neighbors import KNeighborsClassifier\n",
    "from sklearn.svm import SVC\n",
    "from sklearn.naive_bayes import GaussianNB\n",
    "from sklearn.tree import DecisionTreeClassifier\n",
    "from sklearn.ensemble import RandomForestClassifier\n",
    "from xgboost import XGBClassifier\n",
    "from catboost import CatBoostClassifier\n",
    "from sklearn.pipeline import Pipeline\n",
    "from sklearn.decomposition import PCA\n",
    "from sklearn.discriminant_analysis import LinearDiscriminantAnalysis as LDA"
   ]
  },
  {
   "cell_type": "code",
   "execution_count": 2,
   "metadata": {},
   "outputs": [],
   "source": [
    "warnings.filterwarnings('ignore')"
   ]
  },
  {
   "cell_type": "code",
   "execution_count": 3,
   "metadata": {},
   "outputs": [],
   "source": [
    "df = pd.read_csv('./Data.csv')\n",
    "X = df.iloc[:, :-1].values\n",
    "y = df.iloc[:, -1].values"
   ]
  },
  {
   "cell_type": "code",
   "execution_count": 4,
   "metadata": {},
   "outputs": [],
   "source": [
    "models = {\n",
    "    'XGBoost': XGBClassifier(),\n",
    "    'Logistic Regression': LogisticRegression(),\n",
    "    'K-NN': KNeighborsClassifier(),\n",
    "    'SVC': SVC(),\n",
    "    'GauusianNB': GaussianNB(),\n",
    "    'Random Forest': RandomForestClassifier(),\n",
    "    'Decision Tree': DecisionTreeClassifier(),\n",
    "    'CATBoost': CatBoostClassifier(verbose = 0),\n",
    "} "
   ]
  },
  {
   "cell_type": "code",
   "execution_count": 5,
   "metadata": {},
   "outputs": [],
   "source": [
    "dimensionalityReduction = {\n",
    "    'Full': '',\n",
    "    'PCA': PCA(),\n",
    "    'LDA': LDA(),\n",
    "}"
   ]
  },
  {
   "cell_type": "code",
   "execution_count": 6,
   "metadata": {},
   "outputs": [],
   "source": [
    "results = pd.DataFrame(columns = list(dimensionalityReduction), index = list(models))"
   ]
  },
  {
   "cell_type": "code",
   "execution_count": 7,
   "metadata": {},
   "outputs": [],
   "source": [
    "for technique in dimensionalityReduction.items():\n",
    "    \n",
    "    for modelName in models.items():\n",
    "        estimator = Pipeline([('sc', StandardScaler()), ('technique', technique[1]), ('model', modelName[1])])\n",
    "        param_grid = {'technique__n_components': np.arange(1, df.columns.size)}\n",
    "        \n",
    "        if technique[0] == 'Full':\n",
    "            estimator.steps.pop(1)\n",
    "            param_grid = dict()\n",
    "\n",
    "        if modelName[0] == 'K-NN':\n",
    "            param_grid['model__n_neighbors'] = np.arange(1, 50)\n",
    "            Score = GridSearchCV(estimator, param_grid, cv = 10, n_jobs = -1).fit(X, y).best_score_\n",
    "            \n",
    "        elif modelName[0] == 'XGBoost':\n",
    "            Score = GridSearchCV(estimator, param_grid).fit(X, LabelEncoder().fit_transform(y)).best_score_\n",
    "            \n",
    "        elif modelName[0] == 'SVC':\n",
    "            param_grid['model__kernel'] = ['rbf', 'poly', 'sigmoid']\n",
    "            Score = GridSearchCV(estimator, param_grid, cv = 10, n_jobs = -1).fit(X, y).best_score_\n",
    "            \n",
    "        elif modelName[0] == 'Decision Tree':\n",
    "            param_grid['model__criterion'] = ['gini', 'entropy', 'log_loss']\n",
    "            param_grid['model__splitter'] = ['best', 'random']\n",
    "            Score = GridSearchCV(estimator, param_grid, cv = 10, n_jobs = -1).fit(X, y).best_score_\n",
    "            \n",
    "        elif modelName[0] == 'Random Forest':\n",
    "            param_grid['model__criterion'] = ['gini', 'entropy', 'log_loss']\n",
    "            param_grid['model__max_features'] = ['sqrt', 'log2']\n",
    "            param_grid['model__class_weight'] = ['balanced', 'balanced_subsample']\n",
    "            Score = GridSearchCV(estimator, param_grid, cv = 10, n_jobs = -1).fit(X, y).best_score_\n",
    "        \n",
    "        else:\n",
    "            Score = GridSearchCV(estimator, param_grid, cv = 10, n_jobs = -1).fit(X, y).best_score_\n",
    "        \n",
    "        results.loc[modelName[0], technique[0]] = '{:.2f}'.format(Score * 100) + '%'"
   ]
  },
  {
   "cell_type": "code",
   "execution_count": 9,
   "metadata": {},
   "outputs": [
    {
     "data": {
      "text/html": [
       "<style type=\"text/css\">\n",
       "</style>\n",
       "<table id=\"T_763d0\">\n",
       "  <thead>\n",
       "    <tr>\n",
       "      <th class=\"blank level0\" >&nbsp;</th>\n",
       "      <th id=\"T_763d0_level0_col0\" class=\"col_heading level0 col0\" >Full</th>\n",
       "      <th id=\"T_763d0_level0_col1\" class=\"col_heading level0 col1\" >PCA</th>\n",
       "      <th id=\"T_763d0_level0_col2\" class=\"col_heading level0 col2\" >LDA</th>\n",
       "    </tr>\n",
       "  </thead>\n",
       "  <tbody>\n",
       "    <tr>\n",
       "      <th id=\"T_763d0_level0_row0\" class=\"row_heading level0 row0\" >Random Forest</th>\n",
       "      <td id=\"T_763d0_row0_col0\" class=\"data row0 col0\" >97.37%</td>\n",
       "      <td id=\"T_763d0_row0_col1\" class=\"data row0 col1\" >97.51%</td>\n",
       "      <td id=\"T_763d0_row0_col2\" class=\"data row0 col2\" >95.48%</td>\n",
       "    </tr>\n",
       "    <tr>\n",
       "      <th id=\"T_763d0_level0_row1\" class=\"row_heading level0 row1\" >K-NN</th>\n",
       "      <td id=\"T_763d0_row1_col0\" class=\"data row1 col0\" >97.08%</td>\n",
       "      <td id=\"T_763d0_row1_col1\" class=\"data row1 col1\" >97.51%</td>\n",
       "      <td id=\"T_763d0_row1_col2\" class=\"data row1 col2\" >97.23%</td>\n",
       "    </tr>\n",
       "    <tr>\n",
       "      <th id=\"T_763d0_level0_row2\" class=\"row_heading level0 row2\" >CATBoost</th>\n",
       "      <td id=\"T_763d0_row2_col0\" class=\"data row2 col0\" >96.93%</td>\n",
       "      <td id=\"T_763d0_row2_col1\" class=\"data row2 col1\" >97.37%</td>\n",
       "      <td id=\"T_763d0_row2_col2\" class=\"data row2 col2\" >97.22%</td>\n",
       "    </tr>\n",
       "    <tr>\n",
       "      <th id=\"T_763d0_level0_row3\" class=\"row_heading level0 row3\" >SVC</th>\n",
       "      <td id=\"T_763d0_row3_col0\" class=\"data row3 col0\" >96.78%</td>\n",
       "      <td id=\"T_763d0_row3_col1\" class=\"data row3 col1\" >97.37%</td>\n",
       "      <td id=\"T_763d0_row3_col2\" class=\"data row3 col2\" >96.93%</td>\n",
       "    </tr>\n",
       "    <tr>\n",
       "      <th id=\"T_763d0_level0_row4\" class=\"row_heading level0 row4\" >Logistic Regression</th>\n",
       "      <td id=\"T_763d0_row4_col0\" class=\"data row4 col0\" >96.64%</td>\n",
       "      <td id=\"T_763d0_row4_col1\" class=\"data row4 col1\" >96.94%</td>\n",
       "      <td id=\"T_763d0_row4_col2\" class=\"data row4 col2\" >96.21%</td>\n",
       "    </tr>\n",
       "    <tr>\n",
       "      <th id=\"T_763d0_level0_row5\" class=\"row_heading level0 row5\" >GauusianNB</th>\n",
       "      <td id=\"T_763d0_row5_col0\" class=\"data row5 col0\" >96.20%</td>\n",
       "      <td id=\"T_763d0_row5_col1\" class=\"data row5 col1\" >96.93%</td>\n",
       "      <td id=\"T_763d0_row5_col2\" class=\"data row5 col2\" >96.94%</td>\n",
       "    </tr>\n",
       "    <tr>\n",
       "      <th id=\"T_763d0_level0_row6\" class=\"row_heading level0 row6\" >XGBoost</th>\n",
       "      <td id=\"T_763d0_row6_col0\" class=\"data row6 col0\" >95.18%</td>\n",
       "      <td id=\"T_763d0_row6_col1\" class=\"data row6 col1\" >97.37%</td>\n",
       "      <td id=\"T_763d0_row6_col2\" class=\"data row6 col2\" >95.47%</td>\n",
       "    </tr>\n",
       "    <tr>\n",
       "      <th id=\"T_763d0_level0_row7\" class=\"row_heading level0 row7\" >Decision Tree</th>\n",
       "      <td id=\"T_763d0_row7_col0\" class=\"data row7 col0\" >94.74%</td>\n",
       "      <td id=\"T_763d0_row7_col1\" class=\"data row7 col1\" >97.36%</td>\n",
       "      <td id=\"T_763d0_row7_col2\" class=\"data row7 col2\" >95.48%</td>\n",
       "    </tr>\n",
       "  </tbody>\n",
       "</table>\n"
      ],
      "text/plain": [
       "<pandas.io.formats.style.Styler at 0x1bb41b350d0>"
      ]
     },
     "execution_count": 9,
     "metadata": {},
     "output_type": "execute_result"
    }
   ],
   "source": [
    "results.sort_values('Full', ascending = False)"
   ]
  }
 ],
 "metadata": {
  "kernelspec": {
   "display_name": "Python 3",
   "language": "python",
   "name": "python3"
  },
  "language_info": {
   "codemirror_mode": {
    "name": "ipython",
    "version": 3
   },
   "file_extension": ".py",
   "mimetype": "text/x-python",
   "name": "python",
   "nbconvert_exporter": "python",
   "pygments_lexer": "ipython3",
   "version": "3.11.4"
  },
  "orig_nbformat": 4
 },
 "nbformat": 4,
 "nbformat_minor": 2
}
