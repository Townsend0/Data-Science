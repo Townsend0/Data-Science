{
 "cells": [
  {
   "cell_type": "code",
   "execution_count": 235,
   "metadata": {},
   "outputs": [],
   "source": [
    "import pandas as pd\n",
    "from sklearn.linear_model import LogisticRegression\n",
    "from sklearn.model_selection import train_test_split, cross_val_score\n",
    "from sklearn.preprocessing import StandardScaler\n",
    "from sklearn.neighbors import KNeighborsClassifier\n",
    "from sklearn.svm import SVC\n",
    "from sklearn.naive_bayes import GaussianNB\n",
    "from sklearn.tree import DecisionTreeClassifier\n",
    "from sklearn.ensemble import RandomForestClassifier"
   ]
  },
  {
   "cell_type": "code",
   "execution_count": 236,
   "metadata": {},
   "outputs": [],
   "source": [
    "df = pd.read_csv('./Data.csv')\n",
    "X = df.iloc[:, :-1].values\n",
    "y = df.iloc[:, -1].values"
   ]
  },
  {
   "cell_type": "code",
   "execution_count": 237,
   "metadata": {},
   "outputs": [],
   "source": [
    "models = {\n",
    "    'Logistic Regression': LogisticRegression(),\n",
    "    'K-NN': KNeighborsClassifier,\n",
    "    'SVC (Linear)': SVC(kernel = 'linear'), \n",
    "    'SVC (rbf)': SVC(kernel = 'rbf'), \n",
    "    'SVC (poly)': SVC(kernel = 'poly'),\n",
    "    'SVC (sigmoid)': SVC(kernel = 'sigmoid'),\n",
    "    'GauusianNB': GaussianNB(),\n",
    "    'Random Forest': RandomForestClassifier(),\n",
    "    'Decision Tree': DecisionTreeClassifier()\n",
    "} "
   ]
  },
  {
   "cell_type": "code",
   "execution_count": 238,
   "metadata": {},
   "outputs": [],
   "source": [
    "sc = StandardScaler()"
   ]
  },
  {
   "cell_type": "code",
   "execution_count": 239,
   "metadata": {},
   "outputs": [],
   "source": [
    "X_train, X_test, y_train, y_test = train_test_split(X, y, test_size = 0.25, random_state = 42)\n",
    "X_train_scaled = sc.fit_transform(X_train)\n",
    "X_test_scaled = sc.transform(X_test)\n",
    "X_scaled = sc.transform(X)"
   ]
  },
  {
   "cell_type": "code",
   "execution_count": 240,
   "metadata": {},
   "outputs": [],
   "source": [
    "results = pd.DataFrame(columns = pd.MultiIndex.from_tuples(\n",
    "(('TTS', 'Normal'), ('TTS', 'Scaled'), ('K-Fold', 'Normal'), ('K-Fold', 'Scaled'),)))"
   ]
  },
  {
   "cell_type": "code",
   "execution_count": 241,
   "metadata": {},
   "outputs": [],
   "source": [
    "def TTS():\n",
    "    for modelName in models:\n",
    "        \n",
    "        if modelName == 'K-NN':\n",
    "            Scaled = 0\n",
    "            \n",
    "            for a in range(1, 50):\n",
    "                model = models[modelName](a)\n",
    "                model.fit(X_train_scaled, y_train)\n",
    "                score = model.score(X_test_scaled, y_test)\n",
    "                \n",
    "                if score > Scaled:\n",
    "                    Scaled = score\n",
    "                    Normal = model.fit(X_train, y_train).score(X_test, y_test)\n",
    "                    \n",
    "        else:\n",
    "            Normal = models[modelName].fit(X_train, y_train).score(X_test, y_test)\n",
    "            Scaled = models[modelName].fit(X_train_scaled, y_train).score(X_test_scaled, y_test)\n",
    "        \n",
    "        results.loc[modelName] = {\n",
    "            ('TTS', 'Normal'): f'{round(Normal * 100, 2)}%',\n",
    "            ('TTS', 'Scaled'): f'{round(Scaled * 100, 2)}%'\n",
    "        }"
   ]
  },
  {
   "cell_type": "code",
   "execution_count": 242,
   "metadata": {},
   "outputs": [],
   "source": [
    "def kFold():\n",
    "    for modelName in enumerate(models):\n",
    "\n",
    "        if modelName[1] == 'K-NN':\n",
    "            Scaled = 0\n",
    "            \n",
    "            for a in range(1, 50):\n",
    "                \n",
    "                if cross_val_score(models[modelName[1]](a), X, y).mean() > Scaled:\n",
    "                    Scaled = cross_val_score(models[modelName[1]](a), X_scaled, y).mean()\n",
    "                    Normal = cross_val_score(models[modelName[1]](a), X, y).mean()\n",
    "        \n",
    "        else:\n",
    "            Normal = cross_val_score(models[modelName[1]], X, y, cv = 10).mean()\n",
    "            Scaled = cross_val_score(models[modelName[1]], X_scaled, y, cv = 10).mean()\n",
    "        \n",
    "        results.iloc[modelName[0], 2] = f'{round(Normal * 100, 2)}%'\n",
    "        results.iloc[modelName[0], 3] = f'{round(Scaled * 100, 2)}%'"
   ]
  },
  {
   "cell_type": "code",
   "execution_count": 243,
   "metadata": {},
   "outputs": [],
   "source": [
    "TTS()\n",
    "kFold()"
   ]
  },
  {
   "cell_type": "code",
   "execution_count": null,
   "metadata": {},
   "outputs": [
    {
     "data": {
      "text/html": [
       "<div>\n",
       "<style scoped>\n",
       "    .dataframe tbody tr th:only-of-type {\n",
       "        vertical-align: middle;\n",
       "    }\n",
       "\n",
       "    .dataframe tbody tr th {\n",
       "        vertical-align: top;\n",
       "    }\n",
       "\n",
       "    .dataframe thead tr th {\n",
       "        text-align: left;\n",
       "    }\n",
       "</style>\n",
       "<table border=\"1\" class=\"dataframe\">\n",
       "  <thead>\n",
       "    <tr>\n",
       "      <th></th>\n",
       "      <th colspan=\"2\" halign=\"left\">TTS</th>\n",
       "      <th colspan=\"2\" halign=\"left\">K-Fold</th>\n",
       "    </tr>\n",
       "    <tr>\n",
       "      <th></th>\n",
       "      <th>Normal</th>\n",
       "      <th>Scaled</th>\n",
       "      <th>Normal</th>\n",
       "      <th>Scaled</th>\n",
       "    </tr>\n",
       "  </thead>\n",
       "  <tbody>\n",
       "    <tr>\n",
       "      <th>Logistic Regression</th>\n",
       "      <td>60.23%</td>\n",
       "      <td>95.32%</td>\n",
       "      <td>65.01%</td>\n",
       "      <td>96.64%</td>\n",
       "    </tr>\n",
       "    <tr>\n",
       "      <th>K-NN</th>\n",
       "      <td>59.65%</td>\n",
       "      <td>96.49%</td>\n",
       "      <td>53.16%</td>\n",
       "      <td>95.03%</td>\n",
       "    </tr>\n",
       "    <tr>\n",
       "      <th>SVC (rbf)</th>\n",
       "      <td>60.23%</td>\n",
       "      <td>95.32%</td>\n",
       "      <td>63.68%</td>\n",
       "      <td>96.64%</td>\n",
       "    </tr>\n",
       "    <tr>\n",
       "      <th>SVC (poly)</th>\n",
       "      <td>60.23%</td>\n",
       "      <td>91.81%</td>\n",
       "      <td>65.01%</td>\n",
       "      <td>95.33%</td>\n",
       "    </tr>\n",
       "    <tr>\n",
       "      <th>SVC (sigmoid)</th>\n",
       "      <td>60.82%</td>\n",
       "      <td>96.49%</td>\n",
       "      <td>56.62%</td>\n",
       "      <td>96.05%</td>\n",
       "    </tr>\n",
       "    <tr>\n",
       "      <th>GauusianNB</th>\n",
       "      <td>82.46%</td>\n",
       "      <td>96.49%</td>\n",
       "      <td>85.46%</td>\n",
       "      <td>96.2%</td>\n",
       "    </tr>\n",
       "    <tr>\n",
       "      <th>Random Forest</th>\n",
       "      <td>95.91%</td>\n",
       "      <td>95.91%</td>\n",
       "      <td>96.78%</td>\n",
       "      <td>96.49%</td>\n",
       "    </tr>\n",
       "    <tr>\n",
       "      <th>Decision Tree</th>\n",
       "      <td>94.74%</td>\n",
       "      <td>93.57%</td>\n",
       "      <td>94.58%</td>\n",
       "      <td>94.14%</td>\n",
       "    </tr>\n",
       "  </tbody>\n",
       "</table>\n",
       "</div>"
      ],
      "text/plain": [
       "                        TTS          K-Fold        \n",
       "                     Normal  Scaled  Normal  Scaled\n",
       "Logistic Regression  60.23%  95.32%  65.01%  96.64%\n",
       "K-NN                 59.65%  96.49%  53.16%  95.03%\n",
       "SVC (rbf)            60.23%  95.32%  63.68%  96.64%\n",
       "SVC (poly)           60.23%  91.81%  65.01%  95.33%\n",
       "SVC (sigmoid)        60.82%  96.49%  56.62%  96.05%\n",
       "GauusianNB           82.46%  96.49%  85.46%   96.2%\n",
       "Random Forest        95.91%  95.91%  96.78%  96.49%\n",
       "Decision Tree        94.74%  93.57%  94.58%  94.14%"
      ]
     },
     "execution_count": 234,
     "metadata": {},
     "output_type": "execute_result"
    }
   ],
   "source": [
    "results"
   ]
  }
 ],
 "metadata": {
  "kernelspec": {
   "display_name": "Python 3",
   "language": "python",
   "name": "python3"
  },
  "language_info": {
   "codemirror_mode": {
    "name": "ipython",
    "version": 3
   },
   "file_extension": ".py",
   "mimetype": "text/x-python",
   "name": "python",
   "nbconvert_exporter": "python",
   "pygments_lexer": "ipython3",
   "version": "3.11.4"
  },
  "orig_nbformat": 4
 },
 "nbformat": 4,
 "nbformat_minor": 2
}
