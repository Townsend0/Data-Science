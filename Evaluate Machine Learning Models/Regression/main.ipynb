{
 "cells": [
  {
   "cell_type": "code",
   "execution_count": 17,
   "metadata": {},
   "outputs": [],
   "source": [
    "import pandas as pd\n",
    "import numpy as np\n",
    "import warnings\n",
    "from sklearn.linear_model import LinearRegression\n",
    "from sklearn.model_selection import GridSearchCV\n",
    "from sklearn.preprocessing import StandardScaler, PolynomialFeatures\n",
    "from sklearn.neighbors import KNeighborsRegressor\n",
    "from sklearn.svm import SVR\n",
    "from sklearn.tree import DecisionTreeRegressor\n",
    "from sklearn.ensemble import RandomForestRegressor\n",
    "from xgboost import XGBRegressor\n",
    "from catboost import CatBoostRegressor\n",
    "from sklearn.pipeline import Pipeline\n",
    "from sklearn.decomposition import PCA"
   ]
  },
  {
   "cell_type": "code",
   "execution_count": 18,
   "metadata": {},
   "outputs": [],
   "source": [
    "warnings.filterwarnings('ignore')"
   ]
  },
  {
   "cell_type": "code",
   "execution_count": 19,
   "metadata": {},
   "outputs": [],
   "source": [
    "df = pd.read_csv('./Data.csv')\n",
    "X = df.iloc[:, :-1].values\n",
    "y = df.iloc[:, -1].values"
   ]
  },
  {
   "cell_type": "code",
   "execution_count": 20,
   "metadata": {},
   "outputs": [],
   "source": [
    "models = {\n",
    "    'XGBoost': XGBRegressor(),\n",
    "    'Polynomial Regression': LinearRegression(),\n",
    "    'Linear Regression': LinearRegression(),\n",
    "    'K-NN': KNeighborsRegressor(),\n",
    "    'SVR': SVR(),\n",
    "    'CatBoost': CatBoostRegressor(verbose = 0),\n",
    "    'Decision Tree': DecisionTreeRegressor(),\n",
    "    'Random Forest': RandomForestRegressor(),\n",
    "} "
   ]
  },
  {
   "cell_type": "code",
   "execution_count": 21,
   "metadata": {},
   "outputs": [],
   "source": [
    "dimensionalityReduction = {\n",
    "    'Full': '',\n",
    "    'PCA': PCA(),\n",
    "}"
   ]
  },
  {
   "cell_type": "code",
   "execution_count": 22,
   "metadata": {},
   "outputs": [],
   "source": [
    "results = pd.DataFrame(columns = list(dimensionalityReduction), index = list(models))"
   ]
  },
  {
   "cell_type": "code",
   "execution_count": 23,
   "metadata": {},
   "outputs": [],
   "source": [
    "for technique in dimensionalityReduction.items():\n",
    "\n",
    "    for modelName in models.items():\n",
    "        \n",
    "        estimator = Pipeline([('sc', StandardScaler()), ('technique', technique[1]), ('model', modelName[1])])\n",
    "        param_grid = dict(technique__n_components = np.arange(1, df.columns.size))\n",
    "        \n",
    "        if technique[0] == 'Full':\n",
    "            estimator.steps.pop(1)\n",
    "            param_grid = dict()\n",
    "\n",
    "        if modelName == 'K-NN':\n",
    "            param_grid['model__n_neighbors'] = np.arange(1, 50)\n",
    "            Score = GridSearchCV(estimator, param_grid, cv = 10, n_jobs = -1).fit(X, y).best_score_\n",
    "            \n",
    "        elif modelName == 'Polynomial Regression':\n",
    "            estimator.steps.insert(1, ['poly', PolynomialFeatures()])\n",
    "            param_grid['poly__degree'] = np.arange(2, 10)\n",
    "            Score = GridSearchCV(estimator, param_grid, cv = 10, n_jobs = -1).fit(X, y).best_score_\n",
    "            \n",
    "        elif modelName == 'XGBoost':\n",
    "            Score = GridSearchCV(estimator, param_grid, cv = 10, error_score='raise').fit(X, y).best_score_\n",
    "            \n",
    "        elif modelName == 'SVC':\n",
    "            param_grid['model__kernel'] = ['rbf', 'poly', 'sigmoid', 'linear']\n",
    "            Score = GridSearchCV(estimator, param_grid, cv = 10, n_jobs = -1).fit(X, y).best_score_\n",
    "            \n",
    "        elif modelName == 'Decision Tree':\n",
    "            param_grid['model__criterion'] = ['poisson', 'friedman_mse', 'absolute_error', 'squared_error']\n",
    "            param_grid['model__splitter'] = ['best', 'random']\n",
    "            Score = GridSearchCV(estimator, param_grid, cv = 10, n_jobs = -1).fit(X, y).best_score_\n",
    "            \n",
    "        elif modelName == 'Random Forest':\n",
    "            param_grid['model__criterion'] = ['poisson', 'friedman_mse', 'absolute_error', 'squared_error']\n",
    "            param_grid['model__max_features'] = ['sqrt', 'log2']\n",
    "            Score = GridSearchCV(estimator, param_grid, cv = 10, n_jobs = -1).fit(X, y).best_score_\n",
    "            \n",
    "        else:\n",
    "            Score = GridSearchCV(estimator, param_grid, cv = 10, n_jobs = -1).fit(X, y).best_score_\n",
    "        \n",
    "        results.loc[modelName[0], technique[0]] = '{:.2f}'.format(Score * 100) + '%'"
   ]
  },
  {
   "cell_type": "code",
   "execution_count": 24,
   "metadata": {},
   "outputs": [
    {
     "data": {
      "text/html": [
       "<div>\n",
       "<style scoped>\n",
       "    .dataframe tbody tr th:only-of-type {\n",
       "        vertical-align: middle;\n",
       "    }\n",
       "\n",
       "    .dataframe tbody tr th {\n",
       "        vertical-align: top;\n",
       "    }\n",
       "\n",
       "    .dataframe thead th {\n",
       "        text-align: right;\n",
       "    }\n",
       "</style>\n",
       "<table border=\"1\" class=\"dataframe\">\n",
       "  <thead>\n",
       "    <tr style=\"text-align: right;\">\n",
       "      <th></th>\n",
       "      <th>Full</th>\n",
       "      <th>PCA</th>\n",
       "    </tr>\n",
       "  </thead>\n",
       "  <tbody>\n",
       "    <tr>\n",
       "      <th>XGBoost</th>\n",
       "      <td>96.63%</td>\n",
       "      <td>94.51%</td>\n",
       "    </tr>\n",
       "    <tr>\n",
       "      <th>CatBoost</th>\n",
       "      <td>96.50%</td>\n",
       "      <td>94.99%</td>\n",
       "    </tr>\n",
       "    <tr>\n",
       "      <th>Random Forest</th>\n",
       "      <td>96.30%</td>\n",
       "      <td>95.27%</td>\n",
       "    </tr>\n",
       "    <tr>\n",
       "      <th>K-NN</th>\n",
       "      <td>95.16%</td>\n",
       "      <td>95.16%</td>\n",
       "    </tr>\n",
       "    <tr>\n",
       "      <th>SVR</th>\n",
       "      <td>94.05%</td>\n",
       "      <td>94.05%</td>\n",
       "    </tr>\n",
       "    <tr>\n",
       "      <th>Decision Tree</th>\n",
       "      <td>92.97%</td>\n",
       "      <td>90.73%</td>\n",
       "    </tr>\n",
       "    <tr>\n",
       "      <th>Polynomial Regression</th>\n",
       "      <td>92.85%</td>\n",
       "      <td>92.85%</td>\n",
       "    </tr>\n",
       "    <tr>\n",
       "      <th>Linear Regression</th>\n",
       "      <td>92.85%</td>\n",
       "      <td>92.85%</td>\n",
       "    </tr>\n",
       "  </tbody>\n",
       "</table>\n",
       "</div>"
      ],
      "text/plain": [
       "                         Full     PCA\n",
       "XGBoost                96.63%  94.51%\n",
       "CatBoost               96.50%  94.99%\n",
       "Random Forest          96.30%  95.27%\n",
       "K-NN                   95.16%  95.16%\n",
       "SVR                    94.05%  94.05%\n",
       "Decision Tree          92.97%  90.73%\n",
       "Polynomial Regression  92.85%  92.85%\n",
       "Linear Regression      92.85%  92.85%"
      ]
     },
     "execution_count": 24,
     "metadata": {},
     "output_type": "execute_result"
    }
   ],
   "source": [
    "results.sort_values('Full', ascending = False)"
   ]
  }
 ],
 "metadata": {
  "kernelspec": {
   "display_name": "Python 3",
   "language": "python",
   "name": "python3"
  },
  "language_info": {
   "codemirror_mode": {
    "name": "ipython",
    "version": 3
   },
   "file_extension": ".py",
   "mimetype": "text/x-python",
   "name": "python",
   "nbconvert_exporter": "python",
   "pygments_lexer": "ipython3",
   "version": "3.11.4"
  },
  "orig_nbformat": 4
 },
 "nbformat": 4,
 "nbformat_minor": 2
}
