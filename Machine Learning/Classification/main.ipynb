{
 "cells": [
  {
   "cell_type": "code",
   "execution_count": 1,
   "metadata": {},
   "outputs": [],
   "source": [
    "import pandas as pd\n",
    "import numpy as np\n",
    "import warnings\n",
    "from sklearn.linear_model import LogisticRegression\n",
    "from sklearn.model_selection import GridSearchCV\n",
    "from sklearn.preprocessing import StandardScaler, LabelEncoder\n",
    "from sklearn.neighbors import KNeighborsClassifier\n",
    "from sklearn.svm import SVC\n",
    "from sklearn.naive_bayes import GaussianNB\n",
    "from sklearn.tree import DecisionTreeClassifier\n",
    "from sklearn.ensemble import RandomForestClassifier\n",
    "from xgboost import XGBClassifier\n",
    "from catboost import CatBoostClassifier\n",
    "from sklearn.pipeline import Pipeline\n",
    "from sklearn.decomposition import PCA\n",
    "from sklearn.discriminant_analysis import LinearDiscriminantAnalysis as LDA"
   ]
  },
  {
   "cell_type": "code",
   "execution_count": 2,
   "metadata": {},
   "outputs": [],
   "source": [
    "warnings.filterwarnings('ignore')"
   ]
  },
  {
   "cell_type": "code",
   "execution_count": 3,
   "metadata": {},
   "outputs": [],
   "source": [
    "df = pd.read_csv('./Data.csv')\n",
    "X = df.iloc[:, :-1].values\n",
    "y = df.iloc[:, -1].values"
   ]
  },
  {
   "cell_type": "code",
   "execution_count": 4,
   "metadata": {},
   "outputs": [],
   "source": [
    "models = {\n",
    "    'XGBoost': XGBClassifier(),\n",
    "    'Logistic Regression': LogisticRegression(),\n",
    "    'K-NN': KNeighborsClassifier(),\n",
    "    'SVC': SVC(),\n",
    "    'GauusianNB': GaussianNB(),\n",
    "    'Random Forest': RandomForestClassifier(),\n",
    "    'Decision Tree': DecisionTreeClassifier(),\n",
    "    'CATBoost': CatBoostClassifier(verbose = 0),\n",
    "} "
   ]
  },
  {
   "cell_type": "code",
   "execution_count": 5,
   "metadata": {},
   "outputs": [],
   "source": [
    "dimensionalityReduction = {\n",
    "    'Full': '',\n",
    "    'PCA': PCA(),\n",
    "    'LDA': LDA(),\n",
    "}"
   ]
  },
  {
   "cell_type": "code",
   "execution_count": 6,
   "metadata": {},
   "outputs": [],
   "source": [
    "results = pd.DataFrame(columns = list(dimensionalityReduction), index = list(models))"
   ]
  },
  {
   "cell_type": "code",
   "execution_count": 7,
   "metadata": {},
   "outputs": [],
   "source": [
    "for technique in dimensionalityReduction.items():\n",
    "    \n",
    "    for modelName in models.items():\n",
    "        estimator = Pipeline([('sc', StandardScaler()), ('technique', technique[1]), ('model', modelName[1])])\n",
    "        param_grid = {'technique__n_components': np.arange(1, df.columns.size)}\n",
    "        \n",
    "        if technique[0] == 'Full':\n",
    "            estimator.steps.pop(1)\n",
    "            param_grid = dict()\n",
    "\n",
    "        if modelName[0] == 'K-NN':\n",
    "            param_grid['model__n_neighbors'] = np.arange(1, 50)\n",
    "            \n",
    "        elif modelName[0] == 'XGBoost':\n",
    "            Score = GridSearchCV(estimator, param_grid).fit(X, LabelEncoder().fit_transform(y)).best_score_\n",
    "            \n",
    "        elif modelName[0] == 'SVC':\n",
    "            param_grid['model__kernel'] = ['rbf', 'poly', 'sigmoid']\n",
    "            \n",
    "        elif modelName[0] == 'Decision Tree':\n",
    "            param_grid['model__criterion'] = ['gini', 'entropy', 'log_loss']\n",
    "            param_grid['model__splitter'] = ['best', 'random']\n",
    "            \n",
    "        elif modelName[0] == 'Random Forest':\n",
    "            param_grid['model__criterion'] = ['gini', 'entropy', 'log_loss']\n",
    "            param_grid['model__max_features'] = ['sqrt', 'log2']\n",
    "            param_grid['model__class_weight'] = ['balanced', 'balanced_subsample']\n",
    "        \n",
    "        if modelName[0] != 'XGBoost':\n",
    "            Score = GridSearchCV(estimator, param_grid, cv = 10, n_jobs = -1).fit(X, y).best_score_\n",
    "        \n",
    "        results.loc[modelName[0], technique[0]] = '{:.2f}'.format(Score * 100) + '%'"
   ]
  },
  {
   "cell_type": "code",
   "execution_count": 8,
   "metadata": {},
   "outputs": [
    {
     "data": {
      "text/html": [
       "<div>\n",
       "<style scoped>\n",
       "    .dataframe tbody tr th:only-of-type {\n",
       "        vertical-align: middle;\n",
       "    }\n",
       "\n",
       "    .dataframe tbody tr th {\n",
       "        vertical-align: top;\n",
       "    }\n",
       "\n",
       "    .dataframe thead th {\n",
       "        text-align: right;\n",
       "    }\n",
       "</style>\n",
       "<table border=\"1\" class=\"dataframe\">\n",
       "  <thead>\n",
       "    <tr style=\"text-align: right;\">\n",
       "      <th></th>\n",
       "      <th>Full</th>\n",
       "      <th>PCA</th>\n",
       "      <th>LDA</th>\n",
       "    </tr>\n",
       "  </thead>\n",
       "  <tbody>\n",
       "    <tr>\n",
       "      <th>Random Forest</th>\n",
       "      <td>97.22%</td>\n",
       "      <td>97.80%</td>\n",
       "      <td>95.48%</td>\n",
       "    </tr>\n",
       "    <tr>\n",
       "      <th>K-NN</th>\n",
       "      <td>97.08%</td>\n",
       "      <td>97.51%</td>\n",
       "      <td>97.23%</td>\n",
       "    </tr>\n",
       "    <tr>\n",
       "      <th>CATBoost</th>\n",
       "      <td>96.93%</td>\n",
       "      <td>97.37%</td>\n",
       "      <td>97.22%</td>\n",
       "    </tr>\n",
       "    <tr>\n",
       "      <th>SVC</th>\n",
       "      <td>96.78%</td>\n",
       "      <td>97.37%</td>\n",
       "      <td>96.93%</td>\n",
       "    </tr>\n",
       "    <tr>\n",
       "      <th>Logistic Regression</th>\n",
       "      <td>96.64%</td>\n",
       "      <td>96.94%</td>\n",
       "      <td>96.21%</td>\n",
       "    </tr>\n",
       "    <tr>\n",
       "      <th>GauusianNB</th>\n",
       "      <td>96.20%</td>\n",
       "      <td>96.93%</td>\n",
       "      <td>96.94%</td>\n",
       "    </tr>\n",
       "    <tr>\n",
       "      <th>XGBoost</th>\n",
       "      <td>95.18%</td>\n",
       "      <td>97.37%</td>\n",
       "      <td>95.47%</td>\n",
       "    </tr>\n",
       "    <tr>\n",
       "      <th>Decision Tree</th>\n",
       "      <td>95.03%</td>\n",
       "      <td>97.51%</td>\n",
       "      <td>95.48%</td>\n",
       "    </tr>\n",
       "  </tbody>\n",
       "</table>\n",
       "</div>"
      ],
      "text/plain": [
       "                       Full     PCA     LDA\n",
       "Random Forest        97.22%  97.80%  95.48%\n",
       "K-NN                 97.08%  97.51%  97.23%\n",
       "CATBoost             96.93%  97.37%  97.22%\n",
       "SVC                  96.78%  97.37%  96.93%\n",
       "Logistic Regression  96.64%  96.94%  96.21%\n",
       "GauusianNB           96.20%  96.93%  96.94%\n",
       "XGBoost              95.18%  97.37%  95.47%\n",
       "Decision Tree        95.03%  97.51%  95.48%"
      ]
     },
     "execution_count": 8,
     "metadata": {},
     "output_type": "execute_result"
    }
   ],
   "source": [
    "results.sort_values('Full', ascending = False)"
   ]
  }
 ],
 "metadata": {
  "kernelspec": {
   "display_name": "Python 3",
   "language": "python",
   "name": "python3"
  },
  "language_info": {
   "codemirror_mode": {
    "name": "ipython",
    "version": 3
   },
   "file_extension": ".py",
   "mimetype": "text/x-python",
   "name": "python",
   "nbconvert_exporter": "python",
   "pygments_lexer": "ipython3",
   "version": "3.11.4"
  },
  "orig_nbformat": 4
 },
 "nbformat": 4,
 "nbformat_minor": 2
}
