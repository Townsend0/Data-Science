{
 "cells": [
  {
   "cell_type": "code",
   "execution_count": 1,
   "metadata": {},
   "outputs": [],
   "source": [
    "import pandas as pd\n",
    "import numpy as np\n",
    "import plotly.express as px\n",
    "from keras.layers import Dense, LSTM, Dropout\n",
    "from keras.models import Sequential\n",
    "from sklearn.preprocessing import StandardScaler, MinMaxScaler\n",
    "from keras.optimizers import Adam\n",
    "from keras.losses import MeanSquaredError"
   ]
  },
  {
   "cell_type": "code",
   "execution_count": 2,
   "metadata": {},
   "outputs": [],
   "source": [
    "sc = MinMaxScaler()"
   ]
  },
  {
   "cell_type": "code",
   "execution_count": 3,
   "metadata": {},
   "outputs": [],
   "source": [
    "train = sc.fit_transform(pd.read_csv('./Google_Stock_Price_Train.csv')['Open'].values.reshape(-1, 1))\n",
    "test = sc.transform(pd.read_csv('./Google_Stock_Price_Test.csv')['Open'].values.reshape(-1, 1))"
   ]
  },
  {
   "cell_type": "code",
   "execution_count": 4,
   "metadata": {},
   "outputs": [],
   "source": [
    "X_train = np.array([train[a: a + 60] for a in range(train.size - 60)]).reshape(1198, 60)\n",
    "y_train = np.array([train[a + 60] for a in range(train.size - 60)])"
   ]
  },
  {
   "cell_type": "code",
   "execution_count": 5,
   "metadata": {},
   "outputs": [],
   "source": [
    "total = pd.concat([pd.DataFrame(train), pd.DataFrame(test)]).values.reshape(1278)"
   ]
  },
  {
   "cell_type": "code",
   "execution_count": 6,
   "metadata": {},
   "outputs": [],
   "source": [
    "X_test = np.array([total[a - 60: a] for a in range(1258, 1278)])\n",
    "y_test = np.array([total[a] for a in range(1258, 1278)])"
   ]
  },
  {
   "cell_type": "code",
   "execution_count": 7,
   "metadata": {},
   "outputs": [],
   "source": [
    "from sklearn.linear_model import LinearRegression\n",
    "\n",
    "model = LinearRegression()\n",
    "\n",
    "model.fit(X_train, y_train)\n",
    "results1 = pd.DataFrame()\n",
    "results1['Price'] = sc.inverse_transform(y_test.reshape(-1, 1)).flatten()\n",
    "results1['Predictions'] = sc.inverse_transform(model.predict(X_test)).flatten()"
   ]
  },
  {
   "cell_type": "code",
   "execution_count": null,
   "metadata": {},
   "outputs": [],
   "source": []
  },
  {
   "cell_type": "code",
   "execution_count": 8,
   "metadata": {},
   "outputs": [],
   "source": [
    "X_train = X_train.reshape(X_train.shape[0], X_train.shape[1], 1)\n",
    "X_test = X_test.reshape(X_test.shape[0], X_test.shape[1], 1)"
   ]
  },
  {
   "cell_type": "code",
   "execution_count": 9,
   "metadata": {},
   "outputs": [],
   "source": [
    "RNN = Sequential([\n",
    "    LSTM(50, return_sequences = True), Dropout(0.2),\n",
    "    LSTM(50, return_sequences = True), Dropout(0.2),\n",
    "    LSTM(50, return_sequences = True), Dropout(0.2),\n",
    "    LSTM(50, return_sequences = False), Dropout(0.2),\n",
    "    Dense(1),\n",
    "])"
   ]
  },
  {
   "cell_type": "code",
   "execution_count": 10,
   "metadata": {},
   "outputs": [],
   "source": [
    "RNN.compile(Adam(), MeanSquaredError())"
   ]
  },
  {
   "cell_type": "code",
   "execution_count": 11,
   "metadata": {},
   "outputs": [
    {
     "name": "stdout",
     "output_type": "stream",
     "text": [
      "Epoch 1/150\n",
      "38/38 [==============================] - 7s 42ms/step - loss: 0.0481\n",
      "Epoch 2/150\n",
      "38/38 [==============================] - 2s 42ms/step - loss: 0.0067\n",
      "Epoch 3/150\n",
      "38/38 [==============================] - 2s 42ms/step - loss: 0.0056\n",
      "Epoch 4/150\n",
      "38/38 [==============================] - 2s 42ms/step - loss: 0.0059\n",
      "Epoch 5/150\n",
      "38/38 [==============================] - 2s 42ms/step - loss: 0.0056\n",
      "Epoch 6/150\n",
      "38/38 [==============================] - 2s 43ms/step - loss: 0.0049\n",
      "Epoch 7/150\n",
      "38/38 [==============================] - 2s 43ms/step - loss: 0.0043\n",
      "Epoch 8/150\n",
      "38/38 [==============================] - 2s 42ms/step - loss: 0.0047\n",
      "Epoch 9/150\n",
      "38/38 [==============================] - 2s 43ms/step - loss: 0.0046\n",
      "Epoch 10/150\n",
      "38/38 [==============================] - 2s 42ms/step - loss: 0.0042\n",
      "Epoch 11/150\n",
      "38/38 [==============================] - 2s 42ms/step - loss: 0.0039\n",
      "Epoch 12/150\n",
      "38/38 [==============================] - 2s 43ms/step - loss: 0.0039\n",
      "Epoch 13/150\n",
      "38/38 [==============================] - 2s 42ms/step - loss: 0.0043\n",
      "Epoch 14/150\n",
      "38/38 [==============================] - 2s 42ms/step - loss: 0.0039\n",
      "Epoch 15/150\n",
      "38/38 [==============================] - 2s 43ms/step - loss: 0.0040\n",
      "Epoch 16/150\n",
      "38/38 [==============================] - 2s 43ms/step - loss: 0.0046\n",
      "Epoch 17/150\n",
      "38/38 [==============================] - 2s 43ms/step - loss: 0.0039\n",
      "Epoch 18/150\n",
      "38/38 [==============================] - 2s 44ms/step - loss: 0.0038\n",
      "Epoch 19/150\n",
      "38/38 [==============================] - 2s 43ms/step - loss: 0.0037\n",
      "Epoch 20/150\n",
      "38/38 [==============================] - 2s 43ms/step - loss: 0.0038\n",
      "Epoch 21/150\n",
      "38/38 [==============================] - 2s 44ms/step - loss: 0.0033\n",
      "Epoch 22/150\n",
      "38/38 [==============================] - 2s 44ms/step - loss: 0.0033\n",
      "Epoch 23/150\n",
      "38/38 [==============================] - 2s 43ms/step - loss: 0.0033\n",
      "Epoch 24/150\n",
      "38/38 [==============================] - 2s 44ms/step - loss: 0.0031\n",
      "Epoch 25/150\n",
      "38/38 [==============================] - 2s 43ms/step - loss: 0.0032\n",
      "Epoch 26/150\n",
      "38/38 [==============================] - 2s 43ms/step - loss: 0.0032\n",
      "Epoch 27/150\n",
      "38/38 [==============================] - 2s 43ms/step - loss: 0.0031\n",
      "Epoch 28/150\n",
      "38/38 [==============================] - 2s 43ms/step - loss: 0.0032\n",
      "Epoch 29/150\n",
      "38/38 [==============================] - 2s 43ms/step - loss: 0.0032\n",
      "Epoch 30/150\n",
      "38/38 [==============================] - 2s 44ms/step - loss: 0.0032\n",
      "Epoch 31/150\n",
      "38/38 [==============================] - 2s 43ms/step - loss: 0.0031\n",
      "Epoch 32/150\n",
      "38/38 [==============================] - 2s 44ms/step - loss: 0.0031\n",
      "Epoch 33/150\n",
      "38/38 [==============================] - 2s 44ms/step - loss: 0.0029\n",
      "Epoch 34/150\n",
      "38/38 [==============================] - 2s 44ms/step - loss: 0.0028\n",
      "Epoch 35/150\n",
      "38/38 [==============================] - 2s 43ms/step - loss: 0.0029\n",
      "Epoch 36/150\n",
      "38/38 [==============================] - 2s 43ms/step - loss: 0.0032\n",
      "Epoch 37/150\n",
      "38/38 [==============================] - 2s 44ms/step - loss: 0.0031\n",
      "Epoch 38/150\n",
      "38/38 [==============================] - 2s 44ms/step - loss: 0.0029\n",
      "Epoch 39/150\n",
      "38/38 [==============================] - 2s 43ms/step - loss: 0.0028\n",
      "Epoch 40/150\n",
      "38/38 [==============================] - 2s 44ms/step - loss: 0.0024\n",
      "Epoch 41/150\n",
      "38/38 [==============================] - 2s 44ms/step - loss: 0.0025\n",
      "Epoch 42/150\n",
      "38/38 [==============================] - 2s 43ms/step - loss: 0.0031\n",
      "Epoch 43/150\n",
      "38/38 [==============================] - 2s 44ms/step - loss: 0.0029\n",
      "Epoch 44/150\n",
      "38/38 [==============================] - 2s 44ms/step - loss: 0.0025\n",
      "Epoch 45/150\n",
      "38/38 [==============================] - 2s 44ms/step - loss: 0.0025\n",
      "Epoch 46/150\n",
      "38/38 [==============================] - 2s 43ms/step - loss: 0.0024\n",
      "Epoch 47/150\n",
      "38/38 [==============================] - 2s 44ms/step - loss: 0.0027\n",
      "Epoch 48/150\n",
      "38/38 [==============================] - 2s 44ms/step - loss: 0.0023\n",
      "Epoch 49/150\n",
      "38/38 [==============================] - 2s 44ms/step - loss: 0.0025\n",
      "Epoch 50/150\n",
      "38/38 [==============================] - 2s 44ms/step - loss: 0.0027\n",
      "Epoch 51/150\n",
      "38/38 [==============================] - 2s 44ms/step - loss: 0.0023\n",
      "Epoch 52/150\n",
      "38/38 [==============================] - 2s 44ms/step - loss: 0.0026\n",
      "Epoch 53/150\n",
      "38/38 [==============================] - 2s 44ms/step - loss: 0.0023\n",
      "Epoch 54/150\n",
      "38/38 [==============================] - 2s 43ms/step - loss: 0.0023\n",
      "Epoch 55/150\n",
      "38/38 [==============================] - 2s 44ms/step - loss: 0.0020\n",
      "Epoch 56/150\n",
      "38/38 [==============================] - 2s 45ms/step - loss: 0.0021\n",
      "Epoch 57/150\n",
      "38/38 [==============================] - 2s 44ms/step - loss: 0.0020\n",
      "Epoch 58/150\n",
      "38/38 [==============================] - 2s 44ms/step - loss: 0.0020\n",
      "Epoch 59/150\n",
      "38/38 [==============================] - 2s 44ms/step - loss: 0.0022\n",
      "Epoch 60/150\n",
      "38/38 [==============================] - 2s 44ms/step - loss: 0.0018\n",
      "Epoch 61/150\n",
      "38/38 [==============================] - 2s 44ms/step - loss: 0.0021\n",
      "Epoch 62/150\n",
      "38/38 [==============================] - 2s 44ms/step - loss: 0.0020\n",
      "Epoch 63/150\n",
      "38/38 [==============================] - 2s 43ms/step - loss: 0.0023\n",
      "Epoch 64/150\n",
      "38/38 [==============================] - 2s 44ms/step - loss: 0.0022\n",
      "Epoch 65/150\n",
      "38/38 [==============================] - 2s 44ms/step - loss: 0.0020\n",
      "Epoch 66/150\n",
      "38/38 [==============================] - 2s 44ms/step - loss: 0.0021\n",
      "Epoch 67/150\n",
      "38/38 [==============================] - 2s 44ms/step - loss: 0.0020\n",
      "Epoch 68/150\n",
      "38/38 [==============================] - 2s 44ms/step - loss: 0.0020\n",
      "Epoch 69/150\n",
      "38/38 [==============================] - 2s 44ms/step - loss: 0.0019\n",
      "Epoch 70/150\n",
      "38/38 [==============================] - 2s 44ms/step - loss: 0.0020\n",
      "Epoch 71/150\n",
      "38/38 [==============================] - 2s 44ms/step - loss: 0.0020\n",
      "Epoch 72/150\n",
      "38/38 [==============================] - 2s 44ms/step - loss: 0.0017\n",
      "Epoch 73/150\n",
      "38/38 [==============================] - 2s 44ms/step - loss: 0.0018\n",
      "Epoch 74/150\n",
      "38/38 [==============================] - 2s 44ms/step - loss: 0.0021\n",
      "Epoch 75/150\n",
      "38/38 [==============================] - 2s 44ms/step - loss: 0.0019\n",
      "Epoch 76/150\n",
      "38/38 [==============================] - 2s 44ms/step - loss: 0.0017\n",
      "Epoch 77/150\n",
      "38/38 [==============================] - 2s 44ms/step - loss: 0.0020\n",
      "Epoch 78/150\n",
      "38/38 [==============================] - 2s 44ms/step - loss: 0.0017\n",
      "Epoch 79/150\n",
      "38/38 [==============================] - 2s 44ms/step - loss: 0.0017\n",
      "Epoch 80/150\n",
      "38/38 [==============================] - 2s 44ms/step - loss: 0.0018\n",
      "Epoch 81/150\n",
      "38/38 [==============================] - 2s 44ms/step - loss: 0.0018\n",
      "Epoch 82/150\n",
      "38/38 [==============================] - 2s 44ms/step - loss: 0.0017\n",
      "Epoch 83/150\n",
      "38/38 [==============================] - 2s 44ms/step - loss: 0.0016\n",
      "Epoch 84/150\n",
      "38/38 [==============================] - 2s 44ms/step - loss: 0.0017\n",
      "Epoch 85/150\n",
      "38/38 [==============================] - 2s 44ms/step - loss: 0.0017\n",
      "Epoch 86/150\n",
      "38/38 [==============================] - 2s 44ms/step - loss: 0.0016\n",
      "Epoch 87/150\n",
      "38/38 [==============================] - 2s 45ms/step - loss: 0.0016\n",
      "Epoch 88/150\n",
      "38/38 [==============================] - 2s 44ms/step - loss: 0.0017\n",
      "Epoch 89/150\n",
      "38/38 [==============================] - 2s 44ms/step - loss: 0.0015\n",
      "Epoch 90/150\n",
      "38/38 [==============================] - 2s 44ms/step - loss: 0.0016\n",
      "Epoch 91/150\n",
      "38/38 [==============================] - 2s 44ms/step - loss: 0.0015\n",
      "Epoch 92/150\n",
      "38/38 [==============================] - 2s 44ms/step - loss: 0.0015\n",
      "Epoch 93/150\n",
      "38/38 [==============================] - 2s 44ms/step - loss: 0.0015\n",
      "Epoch 94/150\n",
      "38/38 [==============================] - 2s 44ms/step - loss: 0.0016\n",
      "Epoch 95/150\n",
      "38/38 [==============================] - 2s 44ms/step - loss: 0.0014\n",
      "Epoch 96/150\n",
      "38/38 [==============================] - 2s 43ms/step - loss: 0.0016\n",
      "Epoch 97/150\n",
      "38/38 [==============================] - 2s 44ms/step - loss: 0.0014\n",
      "Epoch 98/150\n",
      "38/38 [==============================] - 2s 44ms/step - loss: 0.0015\n",
      "Epoch 99/150\n",
      "38/38 [==============================] - 2s 44ms/step - loss: 0.0015\n",
      "Epoch 100/150\n",
      "38/38 [==============================] - 2s 44ms/step - loss: 0.0014\n",
      "Epoch 101/150\n",
      "38/38 [==============================] - 2s 44ms/step - loss: 0.0014\n",
      "Epoch 102/150\n",
      "38/38 [==============================] - 2s 45ms/step - loss: 0.0014\n",
      "Epoch 103/150\n",
      "38/38 [==============================] - 2s 44ms/step - loss: 0.0014\n",
      "Epoch 104/150\n",
      "38/38 [==============================] - 2s 42ms/step - loss: 0.0015\n",
      "Epoch 105/150\n",
      "38/38 [==============================] - 2s 43ms/step - loss: 0.0014\n",
      "Epoch 106/150\n",
      "38/38 [==============================] - 2s 42ms/step - loss: 0.0015\n",
      "Epoch 107/150\n",
      "38/38 [==============================] - 2s 42ms/step - loss: 0.0014\n",
      "Epoch 108/150\n",
      "38/38 [==============================] - 2s 42ms/step - loss: 0.0014\n",
      "Epoch 109/150\n",
      "38/38 [==============================] - 2s 42ms/step - loss: 0.0013\n",
      "Epoch 110/150\n",
      "38/38 [==============================] - 2s 43ms/step - loss: 0.0014\n",
      "Epoch 111/150\n",
      "38/38 [==============================] - 2s 42ms/step - loss: 0.0014\n",
      "Epoch 112/150\n",
      "38/38 [==============================] - 2s 43ms/step - loss: 0.0014\n",
      "Epoch 113/150\n",
      "38/38 [==============================] - 2s 43ms/step - loss: 0.0012\n",
      "Epoch 114/150\n",
      "38/38 [==============================] - 2s 42ms/step - loss: 0.0013\n",
      "Epoch 115/150\n",
      "38/38 [==============================] - 2s 43ms/step - loss: 0.0013\n",
      "Epoch 116/150\n",
      "38/38 [==============================] - 2s 42ms/step - loss: 0.0014\n",
      "Epoch 117/150\n",
      "38/38 [==============================] - 2s 42ms/step - loss: 0.0015\n",
      "Epoch 118/150\n",
      "38/38 [==============================] - 2s 43ms/step - loss: 0.0014\n",
      "Epoch 119/150\n",
      "38/38 [==============================] - 2s 43ms/step - loss: 0.0013\n",
      "Epoch 120/150\n",
      "38/38 [==============================] - 2s 43ms/step - loss: 0.0015\n",
      "Epoch 121/150\n",
      "38/38 [==============================] - 2s 43ms/step - loss: 0.0013\n",
      "Epoch 122/150\n",
      "38/38 [==============================] - 2s 42ms/step - loss: 0.0012\n",
      "Epoch 123/150\n",
      "38/38 [==============================] - 2s 43ms/step - loss: 0.0013\n",
      "Epoch 124/150\n",
      "38/38 [==============================] - 2s 43ms/step - loss: 0.0012\n",
      "Epoch 125/150\n",
      "38/38 [==============================] - 2s 43ms/step - loss: 0.0011\n",
      "Epoch 126/150\n",
      "38/38 [==============================] - 2s 42ms/step - loss: 0.0013\n",
      "Epoch 127/150\n",
      "38/38 [==============================] - 2s 43ms/step - loss: 0.0011\n",
      "Epoch 128/150\n",
      "38/38 [==============================] - 2s 42ms/step - loss: 0.0013\n",
      "Epoch 129/150\n",
      "38/38 [==============================] - 2s 43ms/step - loss: 0.0015\n",
      "Epoch 130/150\n",
      "38/38 [==============================] - 2s 43ms/step - loss: 0.0017\n",
      "Epoch 131/150\n",
      "38/38 [==============================] - 2s 43ms/step - loss: 0.0013\n",
      "Epoch 132/150\n",
      "38/38 [==============================] - 2s 43ms/step - loss: 0.0011\n",
      "Epoch 133/150\n",
      "38/38 [==============================] - 2s 44ms/step - loss: 0.0012\n",
      "Epoch 134/150\n",
      "38/38 [==============================] - 2s 44ms/step - loss: 0.0014\n",
      "Epoch 135/150\n",
      "38/38 [==============================] - 2s 43ms/step - loss: 0.0013\n",
      "Epoch 136/150\n",
      "38/38 [==============================] - 2s 42ms/step - loss: 0.0012\n",
      "Epoch 137/150\n",
      "38/38 [==============================] - 2s 43ms/step - loss: 0.0012\n",
      "Epoch 138/150\n",
      "38/38 [==============================] - 2s 44ms/step - loss: 0.0012\n",
      "Epoch 139/150\n",
      "38/38 [==============================] - 2s 44ms/step - loss: 0.0012\n",
      "Epoch 140/150\n",
      "38/38 [==============================] - 2s 44ms/step - loss: 0.0012\n",
      "Epoch 141/150\n",
      "38/38 [==============================] - 2s 43ms/step - loss: 0.0012\n",
      "Epoch 142/150\n",
      "38/38 [==============================] - 2s 44ms/step - loss: 0.0011\n",
      "Epoch 143/150\n",
      "38/38 [==============================] - 2s 44ms/step - loss: 0.0012\n",
      "Epoch 144/150\n",
      "38/38 [==============================] - 2s 44ms/step - loss: 0.0013\n",
      "Epoch 145/150\n",
      "38/38 [==============================] - 2s 44ms/step - loss: 0.0012\n",
      "Epoch 146/150\n",
      "38/38 [==============================] - 2s 44ms/step - loss: 0.0012\n",
      "Epoch 147/150\n",
      "38/38 [==============================] - 2s 44ms/step - loss: 0.0013\n",
      "Epoch 148/150\n",
      "38/38 [==============================] - 2s 44ms/step - loss: 0.0011\n",
      "Epoch 149/150\n",
      "38/38 [==============================] - 2s 44ms/step - loss: 0.0013\n",
      "Epoch 150/150\n",
      "38/38 [==============================] - 2s 44ms/step - loss: 0.0013\n"
     ]
    },
    {
     "data": {
      "text/plain": [
       "<keras.src.callbacks.History at 0x1eef22981d0>"
      ]
     },
     "execution_count": 11,
     "metadata": {},
     "output_type": "execute_result"
    }
   ],
   "source": [
    "RNN.fit(X_train, y_train, 32, 150)"
   ]
  },
  {
   "cell_type": "code",
   "execution_count": 12,
   "metadata": {},
   "outputs": [
    {
     "name": "stdout",
     "output_type": "stream",
     "text": [
      "1/1 [==============================] - 1s 1s/step\n"
     ]
    }
   ],
   "source": [
    "results = pd.DataFrame()\n",
    "results['Predictions'] = sc.inverse_transform(RNN.predict(X_test)).flatten()\n",
    "results['Price'] =  sc.inverse_transform(y_test.reshape(-1, 1)).flatten()"
   ]
  },
  {
   "cell_type": "code",
   "execution_count": 13,
   "metadata": {},
   "outputs": [
    {
     "data": {
      "application/vnd.plotly.v1+json": {
       "config": {
        "plotlyServerURL": "https://plot.ly"
       },
       "data": [
        {
         "hovertemplate": "variable=Predictions<br>index=%{x}<br>value=%{y}<extra></extra>",
         "legendgroup": "Predictions",
         "line": {
          "color": "#636efa",
          "dash": "solid"
         },
         "marker": {
          "symbol": "circle"
         },
         "mode": "lines",
         "name": "Predictions",
         "orientation": "v",
         "showlegend": true,
         "type": "scatter",
         "x": [
          0,
          1,
          2,
          3,
          4,
          5,
          6,
          7,
          8,
          9,
          10,
          11,
          12,
          13,
          14,
          15,
          16,
          17,
          18,
          19
         ],
         "xaxis": "x",
         "y": [
          784.7659301757812,
          782.4915771484375,
          786.7074584960938,
          787.5154418945312,
          791.5970458984375,
          799.0623779296875,
          802.021484375,
          800.6080322265625,
          801.2720336914062,
          802.4944458007812,
          803.021728515625,
          802.7280883789062,
          802.4935302734375,
          803.6419677734375,
          804.4575805664062,
          812.7015380859375,
          819.647216796875,
          825.2673950195312,
          824.9135131835938,
          814.0582885742188
         ],
         "yaxis": "y"
        },
        {
         "hovertemplate": "variable=Price<br>index=%{x}<br>value=%{y}<extra></extra>",
         "legendgroup": "Price",
         "line": {
          "color": "#EF553B",
          "dash": "solid"
         },
         "marker": {
          "symbol": "circle"
         },
         "mode": "lines",
         "name": "Price",
         "orientation": "v",
         "showlegend": true,
         "type": "scatter",
         "x": [
          0,
          1,
          2,
          3,
          4,
          5,
          6,
          7,
          8,
          9,
          10,
          11,
          12,
          13,
          14,
          15,
          16,
          17,
          18,
          19
         ],
         "xaxis": "x",
         "y": [
          778.81,
          788.36,
          786.08,
          795.26,
          806.4,
          807.86,
          805,
          807.14,
          807.48,
          807.08,
          805.81,
          805.12,
          806.91,
          807.25,
          822.3,
          829.62,
          837.81,
          834.71,
          814.66,
          796.86
         ],
         "yaxis": "y"
        }
       ],
       "layout": {
        "legend": {
         "title": {
          "text": "variable"
         },
         "tracegroupgap": 0
        },
        "margin": {
         "t": 60
        },
        "template": {
         "data": {
          "bar": [
           {
            "error_x": {
             "color": "#2a3f5f"
            },
            "error_y": {
             "color": "#2a3f5f"
            },
            "marker": {
             "line": {
              "color": "#E5ECF6",
              "width": 0.5
             },
             "pattern": {
              "fillmode": "overlay",
              "size": 10,
              "solidity": 0.2
             }
            },
            "type": "bar"
           }
          ],
          "barpolar": [
           {
            "marker": {
             "line": {
              "color": "#E5ECF6",
              "width": 0.5
             },
             "pattern": {
              "fillmode": "overlay",
              "size": 10,
              "solidity": 0.2
             }
            },
            "type": "barpolar"
           }
          ],
          "carpet": [
           {
            "aaxis": {
             "endlinecolor": "#2a3f5f",
             "gridcolor": "white",
             "linecolor": "white",
             "minorgridcolor": "white",
             "startlinecolor": "#2a3f5f"
            },
            "baxis": {
             "endlinecolor": "#2a3f5f",
             "gridcolor": "white",
             "linecolor": "white",
             "minorgridcolor": "white",
             "startlinecolor": "#2a3f5f"
            },
            "type": "carpet"
           }
          ],
          "choropleth": [
           {
            "colorbar": {
             "outlinewidth": 0,
             "ticks": ""
            },
            "type": "choropleth"
           }
          ],
          "contour": [
           {
            "colorbar": {
             "outlinewidth": 0,
             "ticks": ""
            },
            "colorscale": [
             [
              0,
              "#0d0887"
             ],
             [
              0.1111111111111111,
              "#46039f"
             ],
             [
              0.2222222222222222,
              "#7201a8"
             ],
             [
              0.3333333333333333,
              "#9c179e"
             ],
             [
              0.4444444444444444,
              "#bd3786"
             ],
             [
              0.5555555555555556,
              "#d8576b"
             ],
             [
              0.6666666666666666,
              "#ed7953"
             ],
             [
              0.7777777777777778,
              "#fb9f3a"
             ],
             [
              0.8888888888888888,
              "#fdca26"
             ],
             [
              1,
              "#f0f921"
             ]
            ],
            "type": "contour"
           }
          ],
          "contourcarpet": [
           {
            "colorbar": {
             "outlinewidth": 0,
             "ticks": ""
            },
            "type": "contourcarpet"
           }
          ],
          "heatmap": [
           {
            "colorbar": {
             "outlinewidth": 0,
             "ticks": ""
            },
            "colorscale": [
             [
              0,
              "#0d0887"
             ],
             [
              0.1111111111111111,
              "#46039f"
             ],
             [
              0.2222222222222222,
              "#7201a8"
             ],
             [
              0.3333333333333333,
              "#9c179e"
             ],
             [
              0.4444444444444444,
              "#bd3786"
             ],
             [
              0.5555555555555556,
              "#d8576b"
             ],
             [
              0.6666666666666666,
              "#ed7953"
             ],
             [
              0.7777777777777778,
              "#fb9f3a"
             ],
             [
              0.8888888888888888,
              "#fdca26"
             ],
             [
              1,
              "#f0f921"
             ]
            ],
            "type": "heatmap"
           }
          ],
          "heatmapgl": [
           {
            "colorbar": {
             "outlinewidth": 0,
             "ticks": ""
            },
            "colorscale": [
             [
              0,
              "#0d0887"
             ],
             [
              0.1111111111111111,
              "#46039f"
             ],
             [
              0.2222222222222222,
              "#7201a8"
             ],
             [
              0.3333333333333333,
              "#9c179e"
             ],
             [
              0.4444444444444444,
              "#bd3786"
             ],
             [
              0.5555555555555556,
              "#d8576b"
             ],
             [
              0.6666666666666666,
              "#ed7953"
             ],
             [
              0.7777777777777778,
              "#fb9f3a"
             ],
             [
              0.8888888888888888,
              "#fdca26"
             ],
             [
              1,
              "#f0f921"
             ]
            ],
            "type": "heatmapgl"
           }
          ],
          "histogram": [
           {
            "marker": {
             "pattern": {
              "fillmode": "overlay",
              "size": 10,
              "solidity": 0.2
             }
            },
            "type": "histogram"
           }
          ],
          "histogram2d": [
           {
            "colorbar": {
             "outlinewidth": 0,
             "ticks": ""
            },
            "colorscale": [
             [
              0,
              "#0d0887"
             ],
             [
              0.1111111111111111,
              "#46039f"
             ],
             [
              0.2222222222222222,
              "#7201a8"
             ],
             [
              0.3333333333333333,
              "#9c179e"
             ],
             [
              0.4444444444444444,
              "#bd3786"
             ],
             [
              0.5555555555555556,
              "#d8576b"
             ],
             [
              0.6666666666666666,
              "#ed7953"
             ],
             [
              0.7777777777777778,
              "#fb9f3a"
             ],
             [
              0.8888888888888888,
              "#fdca26"
             ],
             [
              1,
              "#f0f921"
             ]
            ],
            "type": "histogram2d"
           }
          ],
          "histogram2dcontour": [
           {
            "colorbar": {
             "outlinewidth": 0,
             "ticks": ""
            },
            "colorscale": [
             [
              0,
              "#0d0887"
             ],
             [
              0.1111111111111111,
              "#46039f"
             ],
             [
              0.2222222222222222,
              "#7201a8"
             ],
             [
              0.3333333333333333,
              "#9c179e"
             ],
             [
              0.4444444444444444,
              "#bd3786"
             ],
             [
              0.5555555555555556,
              "#d8576b"
             ],
             [
              0.6666666666666666,
              "#ed7953"
             ],
             [
              0.7777777777777778,
              "#fb9f3a"
             ],
             [
              0.8888888888888888,
              "#fdca26"
             ],
             [
              1,
              "#f0f921"
             ]
            ],
            "type": "histogram2dcontour"
           }
          ],
          "mesh3d": [
           {
            "colorbar": {
             "outlinewidth": 0,
             "ticks": ""
            },
            "type": "mesh3d"
           }
          ],
          "parcoords": [
           {
            "line": {
             "colorbar": {
              "outlinewidth": 0,
              "ticks": ""
             }
            },
            "type": "parcoords"
           }
          ],
          "pie": [
           {
            "automargin": true,
            "type": "pie"
           }
          ],
          "scatter": [
           {
            "fillpattern": {
             "fillmode": "overlay",
             "size": 10,
             "solidity": 0.2
            },
            "type": "scatter"
           }
          ],
          "scatter3d": [
           {
            "line": {
             "colorbar": {
              "outlinewidth": 0,
              "ticks": ""
             }
            },
            "marker": {
             "colorbar": {
              "outlinewidth": 0,
              "ticks": ""
             }
            },
            "type": "scatter3d"
           }
          ],
          "scattercarpet": [
           {
            "marker": {
             "colorbar": {
              "outlinewidth": 0,
              "ticks": ""
             }
            },
            "type": "scattercarpet"
           }
          ],
          "scattergeo": [
           {
            "marker": {
             "colorbar": {
              "outlinewidth": 0,
              "ticks": ""
             }
            },
            "type": "scattergeo"
           }
          ],
          "scattergl": [
           {
            "marker": {
             "colorbar": {
              "outlinewidth": 0,
              "ticks": ""
             }
            },
            "type": "scattergl"
           }
          ],
          "scattermapbox": [
           {
            "marker": {
             "colorbar": {
              "outlinewidth": 0,
              "ticks": ""
             }
            },
            "type": "scattermapbox"
           }
          ],
          "scatterpolar": [
           {
            "marker": {
             "colorbar": {
              "outlinewidth": 0,
              "ticks": ""
             }
            },
            "type": "scatterpolar"
           }
          ],
          "scatterpolargl": [
           {
            "marker": {
             "colorbar": {
              "outlinewidth": 0,
              "ticks": ""
             }
            },
            "type": "scatterpolargl"
           }
          ],
          "scatterternary": [
           {
            "marker": {
             "colorbar": {
              "outlinewidth": 0,
              "ticks": ""
             }
            },
            "type": "scatterternary"
           }
          ],
          "surface": [
           {
            "colorbar": {
             "outlinewidth": 0,
             "ticks": ""
            },
            "colorscale": [
             [
              0,
              "#0d0887"
             ],
             [
              0.1111111111111111,
              "#46039f"
             ],
             [
              0.2222222222222222,
              "#7201a8"
             ],
             [
              0.3333333333333333,
              "#9c179e"
             ],
             [
              0.4444444444444444,
              "#bd3786"
             ],
             [
              0.5555555555555556,
              "#d8576b"
             ],
             [
              0.6666666666666666,
              "#ed7953"
             ],
             [
              0.7777777777777778,
              "#fb9f3a"
             ],
             [
              0.8888888888888888,
              "#fdca26"
             ],
             [
              1,
              "#f0f921"
             ]
            ],
            "type": "surface"
           }
          ],
          "table": [
           {
            "cells": {
             "fill": {
              "color": "#EBF0F8"
             },
             "line": {
              "color": "white"
             }
            },
            "header": {
             "fill": {
              "color": "#C8D4E3"
             },
             "line": {
              "color": "white"
             }
            },
            "type": "table"
           }
          ]
         },
         "layout": {
          "annotationdefaults": {
           "arrowcolor": "#2a3f5f",
           "arrowhead": 0,
           "arrowwidth": 1
          },
          "autotypenumbers": "strict",
          "coloraxis": {
           "colorbar": {
            "outlinewidth": 0,
            "ticks": ""
           }
          },
          "colorscale": {
           "diverging": [
            [
             0,
             "#8e0152"
            ],
            [
             0.1,
             "#c51b7d"
            ],
            [
             0.2,
             "#de77ae"
            ],
            [
             0.3,
             "#f1b6da"
            ],
            [
             0.4,
             "#fde0ef"
            ],
            [
             0.5,
             "#f7f7f7"
            ],
            [
             0.6,
             "#e6f5d0"
            ],
            [
             0.7,
             "#b8e186"
            ],
            [
             0.8,
             "#7fbc41"
            ],
            [
             0.9,
             "#4d9221"
            ],
            [
             1,
             "#276419"
            ]
           ],
           "sequential": [
            [
             0,
             "#0d0887"
            ],
            [
             0.1111111111111111,
             "#46039f"
            ],
            [
             0.2222222222222222,
             "#7201a8"
            ],
            [
             0.3333333333333333,
             "#9c179e"
            ],
            [
             0.4444444444444444,
             "#bd3786"
            ],
            [
             0.5555555555555556,
             "#d8576b"
            ],
            [
             0.6666666666666666,
             "#ed7953"
            ],
            [
             0.7777777777777778,
             "#fb9f3a"
            ],
            [
             0.8888888888888888,
             "#fdca26"
            ],
            [
             1,
             "#f0f921"
            ]
           ],
           "sequentialminus": [
            [
             0,
             "#0d0887"
            ],
            [
             0.1111111111111111,
             "#46039f"
            ],
            [
             0.2222222222222222,
             "#7201a8"
            ],
            [
             0.3333333333333333,
             "#9c179e"
            ],
            [
             0.4444444444444444,
             "#bd3786"
            ],
            [
             0.5555555555555556,
             "#d8576b"
            ],
            [
             0.6666666666666666,
             "#ed7953"
            ],
            [
             0.7777777777777778,
             "#fb9f3a"
            ],
            [
             0.8888888888888888,
             "#fdca26"
            ],
            [
             1,
             "#f0f921"
            ]
           ]
          },
          "colorway": [
           "#636efa",
           "#EF553B",
           "#00cc96",
           "#ab63fa",
           "#FFA15A",
           "#19d3f3",
           "#FF6692",
           "#B6E880",
           "#FF97FF",
           "#FECB52"
          ],
          "font": {
           "color": "#2a3f5f"
          },
          "geo": {
           "bgcolor": "white",
           "lakecolor": "white",
           "landcolor": "#E5ECF6",
           "showlakes": true,
           "showland": true,
           "subunitcolor": "white"
          },
          "hoverlabel": {
           "align": "left"
          },
          "hovermode": "closest",
          "mapbox": {
           "style": "light"
          },
          "paper_bgcolor": "white",
          "plot_bgcolor": "#E5ECF6",
          "polar": {
           "angularaxis": {
            "gridcolor": "white",
            "linecolor": "white",
            "ticks": ""
           },
           "bgcolor": "#E5ECF6",
           "radialaxis": {
            "gridcolor": "white",
            "linecolor": "white",
            "ticks": ""
           }
          },
          "scene": {
           "xaxis": {
            "backgroundcolor": "#E5ECF6",
            "gridcolor": "white",
            "gridwidth": 2,
            "linecolor": "white",
            "showbackground": true,
            "ticks": "",
            "zerolinecolor": "white"
           },
           "yaxis": {
            "backgroundcolor": "#E5ECF6",
            "gridcolor": "white",
            "gridwidth": 2,
            "linecolor": "white",
            "showbackground": true,
            "ticks": "",
            "zerolinecolor": "white"
           },
           "zaxis": {
            "backgroundcolor": "#E5ECF6",
            "gridcolor": "white",
            "gridwidth": 2,
            "linecolor": "white",
            "showbackground": true,
            "ticks": "",
            "zerolinecolor": "white"
           }
          },
          "shapedefaults": {
           "line": {
            "color": "#2a3f5f"
           }
          },
          "ternary": {
           "aaxis": {
            "gridcolor": "white",
            "linecolor": "white",
            "ticks": ""
           },
           "baxis": {
            "gridcolor": "white",
            "linecolor": "white",
            "ticks": ""
           },
           "bgcolor": "#E5ECF6",
           "caxis": {
            "gridcolor": "white",
            "linecolor": "white",
            "ticks": ""
           }
          },
          "title": {
           "x": 0.05
          },
          "xaxis": {
           "automargin": true,
           "gridcolor": "white",
           "linecolor": "white",
           "ticks": "",
           "title": {
            "standoff": 15
           },
           "zerolinecolor": "white",
           "zerolinewidth": 2
          },
          "yaxis": {
           "automargin": true,
           "gridcolor": "white",
           "linecolor": "white",
           "ticks": "",
           "title": {
            "standoff": 15
           },
           "zerolinecolor": "white",
           "zerolinewidth": 2
          }
         }
        },
        "xaxis": {
         "anchor": "y",
         "domain": [
          0,
          1
         ],
         "title": {
          "text": "index"
         }
        },
        "yaxis": {
         "anchor": "x",
         "domain": [
          0,
          1
         ],
         "title": {
          "text": "value"
         }
        }
       }
      }
     },
     "metadata": {},
     "output_type": "display_data"
    }
   ],
   "source": [
    "px.line(results)"
   ]
  },
  {
   "cell_type": "code",
   "execution_count": 14,
   "metadata": {},
   "outputs": [
    {
     "data": {
      "application/vnd.plotly.v1+json": {
       "config": {
        "plotlyServerURL": "https://plot.ly"
       },
       "data": [
        {
         "hovertemplate": "variable=Price<br>index=%{x}<br>value=%{y}<extra></extra>",
         "legendgroup": "Price",
         "line": {
          "color": "#636efa",
          "dash": "solid"
         },
         "marker": {
          "symbol": "circle"
         },
         "mode": "lines",
         "name": "Price",
         "orientation": "v",
         "showlegend": true,
         "type": "scatter",
         "x": [
          0,
          1,
          2,
          3,
          4,
          5,
          6,
          7,
          8,
          9,
          10,
          11,
          12,
          13,
          14,
          15,
          16,
          17,
          18,
          19
         ],
         "xaxis": "x",
         "y": [
          778.81,
          788.36,
          786.08,
          795.26,
          806.4,
          807.86,
          805,
          807.14,
          807.48,
          807.08,
          805.81,
          805.12,
          806.91,
          807.25,
          822.3,
          829.62,
          837.81,
          834.71,
          814.66,
          796.86
         ],
         "yaxis": "y"
        },
        {
         "hovertemplate": "variable=Predictions<br>index=%{x}<br>value=%{y}<extra></extra>",
         "legendgroup": "Predictions",
         "line": {
          "color": "#EF553B",
          "dash": "solid"
         },
         "marker": {
          "symbol": "circle"
         },
         "mode": "lines",
         "name": "Predictions",
         "orientation": "v",
         "showlegend": true,
         "type": "scatter",
         "x": [
          0,
          1,
          2,
          3,
          4,
          5,
          6,
          7,
          8,
          9,
          10,
          11,
          12,
          13,
          14,
          15,
          16,
          17,
          18,
          19
         ],
         "xaxis": "x",
         "y": [
          783.2293101373756,
          779.7705249192028,
          788.6370370734518,
          790.616521188944,
          797.6806089841735,
          806.9620863302395,
          809.74869828804,
          803.8172101449767,
          803.522485152665,
          814.5977882437099,
          806.074594695987,
          809.1945752763551,
          803.0068174181995,
          799.9259137490441,
          811.0707138434509,
          819.0078451366419,
          826.2861859298529,
          844.2741141508308,
          829.2195908232937,
          810.0375877414654
         ],
         "yaxis": "y"
        }
       ],
       "layout": {
        "legend": {
         "title": {
          "text": "variable"
         },
         "tracegroupgap": 0
        },
        "margin": {
         "t": 60
        },
        "template": {
         "data": {
          "bar": [
           {
            "error_x": {
             "color": "#2a3f5f"
            },
            "error_y": {
             "color": "#2a3f5f"
            },
            "marker": {
             "line": {
              "color": "#E5ECF6",
              "width": 0.5
             },
             "pattern": {
              "fillmode": "overlay",
              "size": 10,
              "solidity": 0.2
             }
            },
            "type": "bar"
           }
          ],
          "barpolar": [
           {
            "marker": {
             "line": {
              "color": "#E5ECF6",
              "width": 0.5
             },
             "pattern": {
              "fillmode": "overlay",
              "size": 10,
              "solidity": 0.2
             }
            },
            "type": "barpolar"
           }
          ],
          "carpet": [
           {
            "aaxis": {
             "endlinecolor": "#2a3f5f",
             "gridcolor": "white",
             "linecolor": "white",
             "minorgridcolor": "white",
             "startlinecolor": "#2a3f5f"
            },
            "baxis": {
             "endlinecolor": "#2a3f5f",
             "gridcolor": "white",
             "linecolor": "white",
             "minorgridcolor": "white",
             "startlinecolor": "#2a3f5f"
            },
            "type": "carpet"
           }
          ],
          "choropleth": [
           {
            "colorbar": {
             "outlinewidth": 0,
             "ticks": ""
            },
            "type": "choropleth"
           }
          ],
          "contour": [
           {
            "colorbar": {
             "outlinewidth": 0,
             "ticks": ""
            },
            "colorscale": [
             [
              0,
              "#0d0887"
             ],
             [
              0.1111111111111111,
              "#46039f"
             ],
             [
              0.2222222222222222,
              "#7201a8"
             ],
             [
              0.3333333333333333,
              "#9c179e"
             ],
             [
              0.4444444444444444,
              "#bd3786"
             ],
             [
              0.5555555555555556,
              "#d8576b"
             ],
             [
              0.6666666666666666,
              "#ed7953"
             ],
             [
              0.7777777777777778,
              "#fb9f3a"
             ],
             [
              0.8888888888888888,
              "#fdca26"
             ],
             [
              1,
              "#f0f921"
             ]
            ],
            "type": "contour"
           }
          ],
          "contourcarpet": [
           {
            "colorbar": {
             "outlinewidth": 0,
             "ticks": ""
            },
            "type": "contourcarpet"
           }
          ],
          "heatmap": [
           {
            "colorbar": {
             "outlinewidth": 0,
             "ticks": ""
            },
            "colorscale": [
             [
              0,
              "#0d0887"
             ],
             [
              0.1111111111111111,
              "#46039f"
             ],
             [
              0.2222222222222222,
              "#7201a8"
             ],
             [
              0.3333333333333333,
              "#9c179e"
             ],
             [
              0.4444444444444444,
              "#bd3786"
             ],
             [
              0.5555555555555556,
              "#d8576b"
             ],
             [
              0.6666666666666666,
              "#ed7953"
             ],
             [
              0.7777777777777778,
              "#fb9f3a"
             ],
             [
              0.8888888888888888,
              "#fdca26"
             ],
             [
              1,
              "#f0f921"
             ]
            ],
            "type": "heatmap"
           }
          ],
          "heatmapgl": [
           {
            "colorbar": {
             "outlinewidth": 0,
             "ticks": ""
            },
            "colorscale": [
             [
              0,
              "#0d0887"
             ],
             [
              0.1111111111111111,
              "#46039f"
             ],
             [
              0.2222222222222222,
              "#7201a8"
             ],
             [
              0.3333333333333333,
              "#9c179e"
             ],
             [
              0.4444444444444444,
              "#bd3786"
             ],
             [
              0.5555555555555556,
              "#d8576b"
             ],
             [
              0.6666666666666666,
              "#ed7953"
             ],
             [
              0.7777777777777778,
              "#fb9f3a"
             ],
             [
              0.8888888888888888,
              "#fdca26"
             ],
             [
              1,
              "#f0f921"
             ]
            ],
            "type": "heatmapgl"
           }
          ],
          "histogram": [
           {
            "marker": {
             "pattern": {
              "fillmode": "overlay",
              "size": 10,
              "solidity": 0.2
             }
            },
            "type": "histogram"
           }
          ],
          "histogram2d": [
           {
            "colorbar": {
             "outlinewidth": 0,
             "ticks": ""
            },
            "colorscale": [
             [
              0,
              "#0d0887"
             ],
             [
              0.1111111111111111,
              "#46039f"
             ],
             [
              0.2222222222222222,
              "#7201a8"
             ],
             [
              0.3333333333333333,
              "#9c179e"
             ],
             [
              0.4444444444444444,
              "#bd3786"
             ],
             [
              0.5555555555555556,
              "#d8576b"
             ],
             [
              0.6666666666666666,
              "#ed7953"
             ],
             [
              0.7777777777777778,
              "#fb9f3a"
             ],
             [
              0.8888888888888888,
              "#fdca26"
             ],
             [
              1,
              "#f0f921"
             ]
            ],
            "type": "histogram2d"
           }
          ],
          "histogram2dcontour": [
           {
            "colorbar": {
             "outlinewidth": 0,
             "ticks": ""
            },
            "colorscale": [
             [
              0,
              "#0d0887"
             ],
             [
              0.1111111111111111,
              "#46039f"
             ],
             [
              0.2222222222222222,
              "#7201a8"
             ],
             [
              0.3333333333333333,
              "#9c179e"
             ],
             [
              0.4444444444444444,
              "#bd3786"
             ],
             [
              0.5555555555555556,
              "#d8576b"
             ],
             [
              0.6666666666666666,
              "#ed7953"
             ],
             [
              0.7777777777777778,
              "#fb9f3a"
             ],
             [
              0.8888888888888888,
              "#fdca26"
             ],
             [
              1,
              "#f0f921"
             ]
            ],
            "type": "histogram2dcontour"
           }
          ],
          "mesh3d": [
           {
            "colorbar": {
             "outlinewidth": 0,
             "ticks": ""
            },
            "type": "mesh3d"
           }
          ],
          "parcoords": [
           {
            "line": {
             "colorbar": {
              "outlinewidth": 0,
              "ticks": ""
             }
            },
            "type": "parcoords"
           }
          ],
          "pie": [
           {
            "automargin": true,
            "type": "pie"
           }
          ],
          "scatter": [
           {
            "fillpattern": {
             "fillmode": "overlay",
             "size": 10,
             "solidity": 0.2
            },
            "type": "scatter"
           }
          ],
          "scatter3d": [
           {
            "line": {
             "colorbar": {
              "outlinewidth": 0,
              "ticks": ""
             }
            },
            "marker": {
             "colorbar": {
              "outlinewidth": 0,
              "ticks": ""
             }
            },
            "type": "scatter3d"
           }
          ],
          "scattercarpet": [
           {
            "marker": {
             "colorbar": {
              "outlinewidth": 0,
              "ticks": ""
             }
            },
            "type": "scattercarpet"
           }
          ],
          "scattergeo": [
           {
            "marker": {
             "colorbar": {
              "outlinewidth": 0,
              "ticks": ""
             }
            },
            "type": "scattergeo"
           }
          ],
          "scattergl": [
           {
            "marker": {
             "colorbar": {
              "outlinewidth": 0,
              "ticks": ""
             }
            },
            "type": "scattergl"
           }
          ],
          "scattermapbox": [
           {
            "marker": {
             "colorbar": {
              "outlinewidth": 0,
              "ticks": ""
             }
            },
            "type": "scattermapbox"
           }
          ],
          "scatterpolar": [
           {
            "marker": {
             "colorbar": {
              "outlinewidth": 0,
              "ticks": ""
             }
            },
            "type": "scatterpolar"
           }
          ],
          "scatterpolargl": [
           {
            "marker": {
             "colorbar": {
              "outlinewidth": 0,
              "ticks": ""
             }
            },
            "type": "scatterpolargl"
           }
          ],
          "scatterternary": [
           {
            "marker": {
             "colorbar": {
              "outlinewidth": 0,
              "ticks": ""
             }
            },
            "type": "scatterternary"
           }
          ],
          "surface": [
           {
            "colorbar": {
             "outlinewidth": 0,
             "ticks": ""
            },
            "colorscale": [
             [
              0,
              "#0d0887"
             ],
             [
              0.1111111111111111,
              "#46039f"
             ],
             [
              0.2222222222222222,
              "#7201a8"
             ],
             [
              0.3333333333333333,
              "#9c179e"
             ],
             [
              0.4444444444444444,
              "#bd3786"
             ],
             [
              0.5555555555555556,
              "#d8576b"
             ],
             [
              0.6666666666666666,
              "#ed7953"
             ],
             [
              0.7777777777777778,
              "#fb9f3a"
             ],
             [
              0.8888888888888888,
              "#fdca26"
             ],
             [
              1,
              "#f0f921"
             ]
            ],
            "type": "surface"
           }
          ],
          "table": [
           {
            "cells": {
             "fill": {
              "color": "#EBF0F8"
             },
             "line": {
              "color": "white"
             }
            },
            "header": {
             "fill": {
              "color": "#C8D4E3"
             },
             "line": {
              "color": "white"
             }
            },
            "type": "table"
           }
          ]
         },
         "layout": {
          "annotationdefaults": {
           "arrowcolor": "#2a3f5f",
           "arrowhead": 0,
           "arrowwidth": 1
          },
          "autotypenumbers": "strict",
          "coloraxis": {
           "colorbar": {
            "outlinewidth": 0,
            "ticks": ""
           }
          },
          "colorscale": {
           "diverging": [
            [
             0,
             "#8e0152"
            ],
            [
             0.1,
             "#c51b7d"
            ],
            [
             0.2,
             "#de77ae"
            ],
            [
             0.3,
             "#f1b6da"
            ],
            [
             0.4,
             "#fde0ef"
            ],
            [
             0.5,
             "#f7f7f7"
            ],
            [
             0.6,
             "#e6f5d0"
            ],
            [
             0.7,
             "#b8e186"
            ],
            [
             0.8,
             "#7fbc41"
            ],
            [
             0.9,
             "#4d9221"
            ],
            [
             1,
             "#276419"
            ]
           ],
           "sequential": [
            [
             0,
             "#0d0887"
            ],
            [
             0.1111111111111111,
             "#46039f"
            ],
            [
             0.2222222222222222,
             "#7201a8"
            ],
            [
             0.3333333333333333,
             "#9c179e"
            ],
            [
             0.4444444444444444,
             "#bd3786"
            ],
            [
             0.5555555555555556,
             "#d8576b"
            ],
            [
             0.6666666666666666,
             "#ed7953"
            ],
            [
             0.7777777777777778,
             "#fb9f3a"
            ],
            [
             0.8888888888888888,
             "#fdca26"
            ],
            [
             1,
             "#f0f921"
            ]
           ],
           "sequentialminus": [
            [
             0,
             "#0d0887"
            ],
            [
             0.1111111111111111,
             "#46039f"
            ],
            [
             0.2222222222222222,
             "#7201a8"
            ],
            [
             0.3333333333333333,
             "#9c179e"
            ],
            [
             0.4444444444444444,
             "#bd3786"
            ],
            [
             0.5555555555555556,
             "#d8576b"
            ],
            [
             0.6666666666666666,
             "#ed7953"
            ],
            [
             0.7777777777777778,
             "#fb9f3a"
            ],
            [
             0.8888888888888888,
             "#fdca26"
            ],
            [
             1,
             "#f0f921"
            ]
           ]
          },
          "colorway": [
           "#636efa",
           "#EF553B",
           "#00cc96",
           "#ab63fa",
           "#FFA15A",
           "#19d3f3",
           "#FF6692",
           "#B6E880",
           "#FF97FF",
           "#FECB52"
          ],
          "font": {
           "color": "#2a3f5f"
          },
          "geo": {
           "bgcolor": "white",
           "lakecolor": "white",
           "landcolor": "#E5ECF6",
           "showlakes": true,
           "showland": true,
           "subunitcolor": "white"
          },
          "hoverlabel": {
           "align": "left"
          },
          "hovermode": "closest",
          "mapbox": {
           "style": "light"
          },
          "paper_bgcolor": "white",
          "plot_bgcolor": "#E5ECF6",
          "polar": {
           "angularaxis": {
            "gridcolor": "white",
            "linecolor": "white",
            "ticks": ""
           },
           "bgcolor": "#E5ECF6",
           "radialaxis": {
            "gridcolor": "white",
            "linecolor": "white",
            "ticks": ""
           }
          },
          "scene": {
           "xaxis": {
            "backgroundcolor": "#E5ECF6",
            "gridcolor": "white",
            "gridwidth": 2,
            "linecolor": "white",
            "showbackground": true,
            "ticks": "",
            "zerolinecolor": "white"
           },
           "yaxis": {
            "backgroundcolor": "#E5ECF6",
            "gridcolor": "white",
            "gridwidth": 2,
            "linecolor": "white",
            "showbackground": true,
            "ticks": "",
            "zerolinecolor": "white"
           },
           "zaxis": {
            "backgroundcolor": "#E5ECF6",
            "gridcolor": "white",
            "gridwidth": 2,
            "linecolor": "white",
            "showbackground": true,
            "ticks": "",
            "zerolinecolor": "white"
           }
          },
          "shapedefaults": {
           "line": {
            "color": "#2a3f5f"
           }
          },
          "ternary": {
           "aaxis": {
            "gridcolor": "white",
            "linecolor": "white",
            "ticks": ""
           },
           "baxis": {
            "gridcolor": "white",
            "linecolor": "white",
            "ticks": ""
           },
           "bgcolor": "#E5ECF6",
           "caxis": {
            "gridcolor": "white",
            "linecolor": "white",
            "ticks": ""
           }
          },
          "title": {
           "x": 0.05
          },
          "xaxis": {
           "automargin": true,
           "gridcolor": "white",
           "linecolor": "white",
           "ticks": "",
           "title": {
            "standoff": 15
           },
           "zerolinecolor": "white",
           "zerolinewidth": 2
          },
          "yaxis": {
           "automargin": true,
           "gridcolor": "white",
           "linecolor": "white",
           "ticks": "",
           "title": {
            "standoff": 15
           },
           "zerolinecolor": "white",
           "zerolinewidth": 2
          }
         }
        },
        "xaxis": {
         "anchor": "y",
         "domain": [
          0,
          1
         ],
         "title": {
          "text": "index"
         }
        },
        "yaxis": {
         "anchor": "x",
         "domain": [
          0,
          1
         ],
         "title": {
          "text": "value"
         }
        }
       }
      }
     },
     "metadata": {},
     "output_type": "display_data"
    }
   ],
   "source": [
    "px.line(results1)"
   ]
  }
 ],
 "metadata": {
  "kernelspec": {
   "display_name": "Python 3",
   "language": "python",
   "name": "python3"
  },
  "language_info": {
   "codemirror_mode": {
    "name": "ipython",
    "version": 3
   },
   "file_extension": ".py",
   "mimetype": "text/x-python",
   "name": "python",
   "nbconvert_exporter": "python",
   "pygments_lexer": "ipython3",
   "version": "3.11.4"
  },
  "orig_nbformat": 4
 },
 "nbformat": 4,
 "nbformat_minor": 2
}
