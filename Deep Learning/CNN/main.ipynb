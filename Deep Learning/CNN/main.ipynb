{
 "cells": [
  {
   "cell_type": "code",
   "execution_count": 1,
   "metadata": {},
   "outputs": [],
   "source": [
    "from keras.preprocessing.image import ImageDataGenerator, load_img, img_to_array\n",
    "from keras.models import Sequential\n",
    "from keras.layers import Conv2D, MaxPool2D, Flatten, Dense\n",
    "import numpy as np"
   ]
  },
  {
   "cell_type": "code",
   "execution_count": 2,
   "metadata": {},
   "outputs": [
    {
     "name": "stdout",
     "output_type": "stream",
     "text": [
      "Found 8000 images belonging to 2 classes.\n",
      "Found 2000 images belonging to 2 classes.\n"
     ]
    }
   ],
   "source": [
    "a = ImageDataGenerator(rotation_range = 30, width_shift_range = 0.2, height_shift_range = 0.2, fill_mode = 'nearest',\n",
    "rescale = 1./255, shear_range = 0.2, zoom_range = 0.2, horizontal_flip = True)\n",
    "\n",
    "b = ImageDataGenerator(rescale = 1./255)\n",
    "\n",
    "x = a.flow_from_directory('dataset/training_set', (64, 64), class_mode = 'binary')\n",
    "\n",
    "y = b.flow_from_directory('dataset/test_set/', (64, 64), class_mode = 'binary')"
   ]
  },
  {
   "cell_type": "code",
   "execution_count": 3,
   "metadata": {},
   "outputs": [],
   "source": [
    "CNN = Sequential()"
   ]
  },
  {
   "cell_type": "code",
   "execution_count": 4,
   "metadata": {},
   "outputs": [],
   "source": [
    "CNN.add(Conv2D(32, 3, activation = 'relu'))\n",
    "CNN.add(MaxPool2D(2, 2))\n",
    "CNN.add(Conv2D(32, 3, activation = 'relu'))\n",
    "CNN.add(MaxPool2D(2, 2))\n",
    "CNN.add(Flatten())\n",
    "CNN.add(Dense(128, 'relu'))\n",
    "CNN.add(Dense(1, 'sigmoid'))"
   ]
  },
  {
   "cell_type": "code",
   "execution_count": 5,
   "metadata": {},
   "outputs": [],
   "source": [
    "CNN.compile('adam', 'binary_crossentropy', 'accuracy')"
   ]
  },
  {
   "cell_type": "code",
   "execution_count": 6,
   "metadata": {},
   "outputs": [
    {
     "name": "stdout",
     "output_type": "stream",
     "text": [
      "Epoch 1/10\n",
      "250/250 [==============================] - 30s 119ms/step - loss: 0.6844 - accuracy: 0.5431 - val_loss: 0.6765 - val_accuracy: 0.5275\n",
      "Epoch 2/10\n",
      "250/250 [==============================] - 26s 102ms/step - loss: 0.6458 - accuracy: 0.6252 - val_loss: 0.6326 - val_accuracy: 0.6345\n",
      "Epoch 3/10\n",
      "250/250 [==============================] - 24s 97ms/step - loss: 0.6225 - accuracy: 0.6461 - val_loss: 0.5784 - val_accuracy: 0.7000\n",
      "Epoch 4/10\n",
      "250/250 [==============================] - 23s 90ms/step - loss: 0.6154 - accuracy: 0.6590 - val_loss: 0.5893 - val_accuracy: 0.6830\n",
      "Epoch 5/10\n",
      "250/250 [==============================] - 23s 91ms/step - loss: 0.5983 - accuracy: 0.6743 - val_loss: 0.6297 - val_accuracy: 0.6500\n",
      "Epoch 6/10\n",
      "250/250 [==============================] - 23s 91ms/step - loss: 0.5930 - accuracy: 0.6749 - val_loss: 0.5533 - val_accuracy: 0.7315\n",
      "Epoch 7/10\n",
      "250/250 [==============================] - 23s 90ms/step - loss: 0.5773 - accuracy: 0.6938 - val_loss: 0.5215 - val_accuracy: 0.7440\n",
      "Epoch 8/10\n",
      "250/250 [==============================] - 22s 90ms/step - loss: 0.5745 - accuracy: 0.6989 - val_loss: 0.5340 - val_accuracy: 0.7370\n",
      "Epoch 9/10\n",
      "250/250 [==============================] - 23s 91ms/step - loss: 0.5647 - accuracy: 0.7094 - val_loss: 0.5374 - val_accuracy: 0.7285\n",
      "Epoch 10/10\n",
      "250/250 [==============================] - 23s 91ms/step - loss: 0.5558 - accuracy: 0.7146 - val_loss: 0.4892 - val_accuracy: 0.7770\n"
     ]
    },
    {
     "data": {
      "text/plain": [
       "<keras.src.callbacks.History at 0x1e80868df90>"
      ]
     },
     "execution_count": 6,
     "metadata": {},
     "output_type": "execute_result"
    }
   ],
   "source": [
    "CNN.fit(x, validation_data = y, epochs = 10)"
   ]
  },
  {
   "cell_type": "code",
   "execution_count": 7,
   "metadata": {},
   "outputs": [],
   "source": [
    "img1 = np.expand_dims(img_to_array(load_img('dataset/single_prediction/cat_or_dog_1.jpg', target_size = (64, 64))), 0)\n",
    "img2 = np.expand_dims(img_to_array(load_img('dataset/single_prediction/cat_or_dog_2.jpg', target_size = (64, 64))), 0)"
   ]
  },
  {
   "cell_type": "code",
   "execution_count": 8,
   "metadata": {},
   "outputs": [
    {
     "data": {
      "text/plain": [
       "{'cats': 0, 'dogs': 1}"
      ]
     },
     "execution_count": 8,
     "metadata": {},
     "output_type": "execute_result"
    }
   ],
   "source": [
    "x.class_indices"
   ]
  },
  {
   "cell_type": "code",
   "execution_count": 9,
   "metadata": {},
   "outputs": [
    {
     "name": "stdout",
     "output_type": "stream",
     "text": [
      "1/1 [==============================] - 0s 83ms/step\n",
      "1/1 [==============================] - 0s 16ms/step\n"
     ]
    }
   ],
   "source": [
    "preds = [CNN.predict(img1), CNN.predict(img2)]"
   ]
  },
  {
   "cell_type": "code",
   "execution_count": 10,
   "metadata": {},
   "outputs": [
    {
     "data": {
      "text/plain": [
       "['dogs', 'dogs']"
      ]
     },
     "execution_count": 10,
     "metadata": {},
     "output_type": "execute_result"
    }
   ],
   "source": [
    "['dogs' if preds[a] >= 0.5 else 'cats' for a in range(len(preds))]"
   ]
  }
 ],
 "metadata": {
  "kernelspec": {
   "display_name": "Python 3",
   "language": "python",
   "name": "python3"
  },
  "language_info": {
   "codemirror_mode": {
    "name": "ipython",
    "version": 3
   },
   "file_extension": ".py",
   "mimetype": "text/x-python",
   "name": "python",
   "nbconvert_exporter": "python",
   "pygments_lexer": "ipython3",
   "version": "3.11.4"
  },
  "orig_nbformat": 4
 },
 "nbformat": 4,
 "nbformat_minor": 2
}
